{
 "cells": [
  {
   "cell_type": "code",
   "execution_count": 3,
   "id": "initial_id",
   "metadata": {
    "collapsed": true,
    "ExecuteTime": {
     "end_time": "2024-03-27T12:01:53.098773Z",
     "start_time": "2024-03-27T12:01:53.084159Z"
    }
   },
   "outputs": [],
   "source": [
    "import pandas as pd\n",
    "import numpy as np\n",
    "import pandas as pd\n"
   ]
  },
  {
   "cell_type": "code",
   "outputs": [],
   "source": [
    "movie = pd.read_csv('ml-25m/movies.csv')\n",
    "ratings = pd.read_csv('ml-25m/ratings.csv')"
   ],
   "metadata": {
    "collapsed": false,
    "ExecuteTime": {
     "end_time": "2024-03-27T12:01:59.180381Z",
     "start_time": "2024-03-27T12:01:53.771512Z"
    }
   },
   "id": "e459101a5b8c34bf",
   "execution_count": 4
  },
  {
   "cell_type": "code",
   "outputs": [],
   "source": [
    "\n",
    "ratings_df = pd.read_csv('ml-25m/ratings.csv')\n",
    "movies_df = pd.read_csv('ml-25m/movies.csv')\n",
    "\n",
    "movies_ratings_df = pd.merge(ratings_df, movies_df, on=\"movieId\")\n",
    "\n",
    "small_movies_ratings_df = movies_ratings_df[:10000]\n",
    "\n",
    "ratings_df = small_movies_ratings_df.reset_index(drop=True)\n",
    "\n",
    "user_ratings_pivot = ratings_df.pivot(index='userId', columns='movieId', values='rating').fillna(0)\n",
    "\n",
    "avg_ratings = user_ratings_pivot.mean(axis=1)\n",
    "filled_user_item_matrix = user_ratings_pivot.sub(avg_ratings, axis=0).fillna(0)"
   ],
   "metadata": {
    "collapsed": false,
    "ExecuteTime": {
     "end_time": "2024-03-27T12:02:06.425372Z",
     "start_time": "2024-03-27T12:01:59.181413Z"
    }
   },
   "id": "36aee8da4dc90fe4",
   "execution_count": 5
  },
  {
   "cell_type": "code",
   "outputs": [],
   "source": [],
   "metadata": {
    "collapsed": false
   },
   "id": "463d4d66d8f0fe40"
  }
 ],
 "metadata": {
  "kernelspec": {
   "display_name": "Python 3",
   "language": "python",
   "name": "python3"
  },
  "language_info": {
   "codemirror_mode": {
    "name": "ipython",
    "version": 2
   },
   "file_extension": ".py",
   "mimetype": "text/x-python",
   "name": "python",
   "nbconvert_exporter": "python",
   "pygments_lexer": "ipython2",
   "version": "2.7.6"
  }
 },
 "nbformat": 4,
 "nbformat_minor": 5
}
