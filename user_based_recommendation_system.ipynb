{
 "cells": [
  {
   "cell_type": "markdown",
   "source": [
    "## User Based collaborative filtering"
   ],
   "metadata": {
    "collapsed": false
   }
  },
  {
   "cell_type": "code",
   "outputs": [],
   "source": [
    "import pandas as pd\n",
    "import numpy as np"
   ],
   "metadata": {
    "_cell_guid": "b1076dfc-b9ad-4769-8c92-a6c4dae69d19",
    "_uuid": "8f2839f25d086af736a60e9eeb907d3b93b6e0e5",
    "ExecuteTime": {
     "end_time": "2024-03-27T11:13:48.589153Z",
     "start_time": "2024-03-27T11:13:48.578153Z"
    }
   },
   "execution_count": 19
  },
  {
   "cell_type": "code",
   "execution_count": 4,
   "metadata": {
    "ExecuteTime": {
     "end_time": "2024-03-27T10:59:06.887135Z",
     "start_time": "2024-03-27T10:59:02.121903Z"
    }
   },
   "outputs": [],
   "source": [
    "movie = pd.read_csv('ml-25m/movies.csv')\n",
    "ratings = pd.read_csv('ml-25m/ratings.csv')"
   ]
  },
  {
   "cell_type": "code",
   "execution_count": 5,
   "metadata": {
    "ExecuteTime": {
     "end_time": "2024-03-27T10:59:06.919034Z",
     "start_time": "2024-03-27T10:59:06.888037Z"
    }
   },
   "outputs": [
    {
     "data": {
      "text/plain": "   movieId                               title  \\\n0        1                    Toy Story (1995)   \n1        2                      Jumanji (1995)   \n2        3             Grumpier Old Men (1995)   \n3        4            Waiting to Exhale (1995)   \n4        5  Father of the Bride Part II (1995)   \n\n                                        genres  \n0  Adventure|Animation|Children|Comedy|Fantasy  \n1                   Adventure|Children|Fantasy  \n2                               Comedy|Romance  \n3                         Comedy|Drama|Romance  \n4                                       Comedy  ",
      "text/html": "<div>\n<style scoped>\n    .dataframe tbody tr th:only-of-type {\n        vertical-align: middle;\n    }\n\n    .dataframe tbody tr th {\n        vertical-align: top;\n    }\n\n    .dataframe thead th {\n        text-align: right;\n    }\n</style>\n<table border=\"1\" class=\"dataframe\">\n  <thead>\n    <tr style=\"text-align: right;\">\n      <th></th>\n      <th>movieId</th>\n      <th>title</th>\n      <th>genres</th>\n    </tr>\n  </thead>\n  <tbody>\n    <tr>\n      <th>0</th>\n      <td>1</td>\n      <td>Toy Story (1995)</td>\n      <td>Adventure|Animation|Children|Comedy|Fantasy</td>\n    </tr>\n    <tr>\n      <th>1</th>\n      <td>2</td>\n      <td>Jumanji (1995)</td>\n      <td>Adventure|Children|Fantasy</td>\n    </tr>\n    <tr>\n      <th>2</th>\n      <td>3</td>\n      <td>Grumpier Old Men (1995)</td>\n      <td>Comedy|Romance</td>\n    </tr>\n    <tr>\n      <th>3</th>\n      <td>4</td>\n      <td>Waiting to Exhale (1995)</td>\n      <td>Comedy|Drama|Romance</td>\n    </tr>\n    <tr>\n      <th>4</th>\n      <td>5</td>\n      <td>Father of the Bride Part II (1995)</td>\n      <td>Comedy</td>\n    </tr>\n  </tbody>\n</table>\n</div>"
     },
     "execution_count": 5,
     "metadata": {},
     "output_type": "execute_result"
    }
   ],
   "source": [
    "movie.head()"
   ]
  },
  {
   "cell_type": "code",
   "execution_count": 6,
   "metadata": {
    "ExecuteTime": {
     "end_time": "2024-03-27T10:59:06.935031Z",
     "start_time": "2024-03-27T10:59:06.921030Z"
    }
   },
   "outputs": [
    {
     "data": {
      "text/plain": "   userId  movieId  rating   timestamp\n0       1      296     5.0  1147880044\n1       1      306     3.5  1147868817\n2       1      307     5.0  1147868828\n3       1      665     5.0  1147878820\n4       1      899     3.5  1147868510",
      "text/html": "<div>\n<style scoped>\n    .dataframe tbody tr th:only-of-type {\n        vertical-align: middle;\n    }\n\n    .dataframe tbody tr th {\n        vertical-align: top;\n    }\n\n    .dataframe thead th {\n        text-align: right;\n    }\n</style>\n<table border=\"1\" class=\"dataframe\">\n  <thead>\n    <tr style=\"text-align: right;\">\n      <th></th>\n      <th>userId</th>\n      <th>movieId</th>\n      <th>rating</th>\n      <th>timestamp</th>\n    </tr>\n  </thead>\n  <tbody>\n    <tr>\n      <th>0</th>\n      <td>1</td>\n      <td>296</td>\n      <td>5.0</td>\n      <td>1147880044</td>\n    </tr>\n    <tr>\n      <th>1</th>\n      <td>1</td>\n      <td>306</td>\n      <td>3.5</td>\n      <td>1147868817</td>\n    </tr>\n    <tr>\n      <th>2</th>\n      <td>1</td>\n      <td>307</td>\n      <td>5.0</td>\n      <td>1147868828</td>\n    </tr>\n    <tr>\n      <th>3</th>\n      <td>1</td>\n      <td>665</td>\n      <td>5.0</td>\n      <td>1147878820</td>\n    </tr>\n    <tr>\n      <th>4</th>\n      <td>1</td>\n      <td>899</td>\n      <td>3.5</td>\n      <td>1147868510</td>\n    </tr>\n  </tbody>\n</table>\n</div>"
     },
     "execution_count": 6,
     "metadata": {},
     "output_type": "execute_result"
    }
   ],
   "source": [
    "ratings.head()"
   ]
  },
  {
   "cell_type": "code",
   "execution_count": 7,
   "metadata": {
    "ExecuteTime": {
     "end_time": "2024-03-27T10:59:07.139061Z",
     "start_time": "2024-03-27T10:59:06.937031Z"
    }
   },
   "outputs": [],
   "source": [
    "ratings = ratings.drop('timestamp', axis=1)"
   ]
  },
  {
   "cell_type": "code",
   "execution_count": 8,
   "metadata": {
    "execution": {
     "iopub.execute_input": "2023-12-22T07:41:48.111700Z",
     "iopub.status.busy": "2023-12-22T07:41:48.111394Z",
     "iopub.status.idle": "2023-12-22T07:41:48.121105Z",
     "shell.execute_reply": "2023-12-22T07:41:48.119990Z",
     "shell.execute_reply.started": "2023-12-22T07:41:48.111673Z"
    },
    "ExecuteTime": {
     "end_time": "2024-03-27T10:59:07.155060Z",
     "start_time": "2024-03-27T10:59:07.140060Z"
    }
   },
   "outputs": [
    {
     "data": {
      "text/plain": "   userId  movieId  rating\n0       1      296     5.0\n1       1      306     3.5\n2       1      307     5.0\n3       1      665     5.0\n4       1      899     3.5",
      "text/html": "<div>\n<style scoped>\n    .dataframe tbody tr th:only-of-type {\n        vertical-align: middle;\n    }\n\n    .dataframe tbody tr th {\n        vertical-align: top;\n    }\n\n    .dataframe thead th {\n        text-align: right;\n    }\n</style>\n<table border=\"1\" class=\"dataframe\">\n  <thead>\n    <tr style=\"text-align: right;\">\n      <th></th>\n      <th>userId</th>\n      <th>movieId</th>\n      <th>rating</th>\n    </tr>\n  </thead>\n  <tbody>\n    <tr>\n      <th>0</th>\n      <td>1</td>\n      <td>296</td>\n      <td>5.0</td>\n    </tr>\n    <tr>\n      <th>1</th>\n      <td>1</td>\n      <td>306</td>\n      <td>3.5</td>\n    </tr>\n    <tr>\n      <th>2</th>\n      <td>1</td>\n      <td>307</td>\n      <td>5.0</td>\n    </tr>\n    <tr>\n      <th>3</th>\n      <td>1</td>\n      <td>665</td>\n      <td>5.0</td>\n    </tr>\n    <tr>\n      <th>4</th>\n      <td>1</td>\n      <td>899</td>\n      <td>3.5</td>\n    </tr>\n  </tbody>\n</table>\n</div>"
     },
     "execution_count": 8,
     "metadata": {},
     "output_type": "execute_result"
    }
   ],
   "source": [
    "ratings.head()"
   ]
  },
  {
   "cell_type": "code",
   "execution_count": 9,
   "metadata": {
    "execution": {
     "iopub.execute_input": "2023-12-22T08:15:29.956850Z",
     "iopub.status.busy": "2023-12-22T08:15:29.955906Z",
     "iopub.status.idle": "2023-12-22T08:16:38.623532Z",
     "shell.execute_reply": "2023-12-22T08:16:38.622313Z",
     "shell.execute_reply.started": "2023-12-22T08:15:29.956812Z"
    },
    "ExecuteTime": {
     "end_time": "2024-03-27T10:59:14.014553Z",
     "start_time": "2024-03-27T10:59:07.156060Z"
    }
   },
   "outputs": [],
   "source": [
    "import pandas as pd\n",
    "\n",
    "ratings_df = pd.read_csv('ml-25m/ratings.csv')\n",
    "movies_df = pd.read_csv('ml-25m/movies.csv')\n",
    "\n",
    "movies_ratings_df = pd.merge(ratings_df, movies_df, on=\"movieId\")\n",
    "\n",
    "small_movies_ratings_df = movies_ratings_df[:10000]\n",
    "\n",
    "ratings_df = small_movies_ratings_df.reset_index(drop=True)\n",
    "\n",
    "user_ratings_pivot = ratings_df.pivot(index='userId', columns='movieId', values='rating').fillna(0)\n",
    "\n",
    "avg_ratings = user_ratings_pivot.mean(axis=1)\n",
    "filled_user_item_matrix = user_ratings_pivot.sub(avg_ratings, axis=0).fillna(0)\n"
   ]
  },
  {
   "cell_type": "code",
   "execution_count": 10,
   "outputs": [
    {
     "data": {
      "text/plain": "movieId    1         2         3         5         6         7         9       \\\nuserId                                                                          \n1       -0.081229 -0.081229 -0.081229 -0.081229 -0.081229 -0.081229 -0.081229   \n2        3.296775 -0.203225 -0.203225 -0.203225 -0.203225 -0.203225 -0.203225   \n3        3.262093 -0.737907 -0.737907 -0.737907 -0.737907 -0.737907 -0.737907   \n4        2.751293 -0.248707 -0.248707 -0.248707 -0.248707 -0.248707 -0.248707   \n5        3.884697 -0.115303 -0.115303 -0.115303 -0.115303 -0.115303 -0.115303   \n\nmovieId    10        11        14      ...    182715    182823    187541  \\\nuserId                                 ...                                 \n1       -0.081229 -0.081229 -0.081229  ... -0.081229 -0.081229 -0.081229   \n2       -0.203225 -0.203225 -0.203225  ... -0.203225 -0.203225 -0.203225   \n3       -0.737907 -0.737907 -0.737907  ... -0.737907  2.262093  2.762093   \n4       -0.248707 -0.248707 -0.248707  ...  4.251293 -0.248707  3.251293   \n5       -0.115303 -0.115303 -0.115303  ... -0.115303 -0.115303 -0.115303   \n\nmovieId    187593    189333    195159    200818    200838    203375    203519  \nuserId                                                                         \n1       -0.081229 -0.081229 -0.081229 -0.081229 -0.081229 -0.081229 -0.081229  \n2       -0.203225 -0.203225 -0.203225 -0.203225 -0.203225 -0.203225 -0.203225  \n3        3.762093 -0.737907 -0.737907 -0.737907 -0.737907 -0.737907 -0.737907  \n4        3.251293  3.751293  4.751293  4.751293  2.751293  4.251293  2.251293  \n5       -0.115303 -0.115303 -0.115303 -0.115303 -0.115303 -0.115303 -0.115303  \n\n[5 rows x 3287 columns]",
      "text/html": "<div>\n<style scoped>\n    .dataframe tbody tr th:only-of-type {\n        vertical-align: middle;\n    }\n\n    .dataframe tbody tr th {\n        vertical-align: top;\n    }\n\n    .dataframe thead th {\n        text-align: right;\n    }\n</style>\n<table border=\"1\" class=\"dataframe\">\n  <thead>\n    <tr style=\"text-align: right;\">\n      <th>movieId</th>\n      <th>1</th>\n      <th>2</th>\n      <th>3</th>\n      <th>5</th>\n      <th>6</th>\n      <th>7</th>\n      <th>9</th>\n      <th>10</th>\n      <th>11</th>\n      <th>14</th>\n      <th>...</th>\n      <th>182715</th>\n      <th>182823</th>\n      <th>187541</th>\n      <th>187593</th>\n      <th>189333</th>\n      <th>195159</th>\n      <th>200818</th>\n      <th>200838</th>\n      <th>203375</th>\n      <th>203519</th>\n    </tr>\n    <tr>\n      <th>userId</th>\n      <th></th>\n      <th></th>\n      <th></th>\n      <th></th>\n      <th></th>\n      <th></th>\n      <th></th>\n      <th></th>\n      <th></th>\n      <th></th>\n      <th></th>\n      <th></th>\n      <th></th>\n      <th></th>\n      <th></th>\n      <th></th>\n      <th></th>\n      <th></th>\n      <th></th>\n      <th></th>\n      <th></th>\n    </tr>\n  </thead>\n  <tbody>\n    <tr>\n      <th>1</th>\n      <td>-0.081229</td>\n      <td>-0.081229</td>\n      <td>-0.081229</td>\n      <td>-0.081229</td>\n      <td>-0.081229</td>\n      <td>-0.081229</td>\n      <td>-0.081229</td>\n      <td>-0.081229</td>\n      <td>-0.081229</td>\n      <td>-0.081229</td>\n      <td>...</td>\n      <td>-0.081229</td>\n      <td>-0.081229</td>\n      <td>-0.081229</td>\n      <td>-0.081229</td>\n      <td>-0.081229</td>\n      <td>-0.081229</td>\n      <td>-0.081229</td>\n      <td>-0.081229</td>\n      <td>-0.081229</td>\n      <td>-0.081229</td>\n    </tr>\n    <tr>\n      <th>2</th>\n      <td>3.296775</td>\n      <td>-0.203225</td>\n      <td>-0.203225</td>\n      <td>-0.203225</td>\n      <td>-0.203225</td>\n      <td>-0.203225</td>\n      <td>-0.203225</td>\n      <td>-0.203225</td>\n      <td>-0.203225</td>\n      <td>-0.203225</td>\n      <td>...</td>\n      <td>-0.203225</td>\n      <td>-0.203225</td>\n      <td>-0.203225</td>\n      <td>-0.203225</td>\n      <td>-0.203225</td>\n      <td>-0.203225</td>\n      <td>-0.203225</td>\n      <td>-0.203225</td>\n      <td>-0.203225</td>\n      <td>-0.203225</td>\n    </tr>\n    <tr>\n      <th>3</th>\n      <td>3.262093</td>\n      <td>-0.737907</td>\n      <td>-0.737907</td>\n      <td>-0.737907</td>\n      <td>-0.737907</td>\n      <td>-0.737907</td>\n      <td>-0.737907</td>\n      <td>-0.737907</td>\n      <td>-0.737907</td>\n      <td>-0.737907</td>\n      <td>...</td>\n      <td>-0.737907</td>\n      <td>2.262093</td>\n      <td>2.762093</td>\n      <td>3.762093</td>\n      <td>-0.737907</td>\n      <td>-0.737907</td>\n      <td>-0.737907</td>\n      <td>-0.737907</td>\n      <td>-0.737907</td>\n      <td>-0.737907</td>\n    </tr>\n    <tr>\n      <th>4</th>\n      <td>2.751293</td>\n      <td>-0.248707</td>\n      <td>-0.248707</td>\n      <td>-0.248707</td>\n      <td>-0.248707</td>\n      <td>-0.248707</td>\n      <td>-0.248707</td>\n      <td>-0.248707</td>\n      <td>-0.248707</td>\n      <td>-0.248707</td>\n      <td>...</td>\n      <td>4.251293</td>\n      <td>-0.248707</td>\n      <td>3.251293</td>\n      <td>3.251293</td>\n      <td>3.751293</td>\n      <td>4.751293</td>\n      <td>4.751293</td>\n      <td>2.751293</td>\n      <td>4.251293</td>\n      <td>2.251293</td>\n    </tr>\n    <tr>\n      <th>5</th>\n      <td>3.884697</td>\n      <td>-0.115303</td>\n      <td>-0.115303</td>\n      <td>-0.115303</td>\n      <td>-0.115303</td>\n      <td>-0.115303</td>\n      <td>-0.115303</td>\n      <td>-0.115303</td>\n      <td>-0.115303</td>\n      <td>-0.115303</td>\n      <td>...</td>\n      <td>-0.115303</td>\n      <td>-0.115303</td>\n      <td>-0.115303</td>\n      <td>-0.115303</td>\n      <td>-0.115303</td>\n      <td>-0.115303</td>\n      <td>-0.115303</td>\n      <td>-0.115303</td>\n      <td>-0.115303</td>\n      <td>-0.115303</td>\n    </tr>\n  </tbody>\n</table>\n<p>5 rows × 3287 columns</p>\n</div>"
     },
     "execution_count": 10,
     "metadata": {},
     "output_type": "execute_result"
    }
   ],
   "source": [
    "filled_user_item_matrix.head()"
   ],
   "metadata": {
    "collapsed": false,
    "ExecuteTime": {
     "end_time": "2024-03-27T10:59:14.046284Z",
     "start_time": "2024-03-27T10:59:14.015533Z"
    }
   }
  },
  {
   "cell_type": "markdown",
   "source": [
    "We make use of the ratings data to create a user-item matrix. The user-item matrix is a matrix where each row represents a user and each column represents an item. The matrix is filled with ratings given by users to items and we make sure to normalize the ratings by subtracting the average rating given by each user. We then fill the missing values with 0."
   ],
   "metadata": {
    "collapsed": false
   }
  },
  {
   "cell_type": "code",
   "execution_count": 55,
   "outputs": [
    {
     "data": {
      "text/plain": "userId        1         2         3         4         5         6         7   \\\nuserId                                                                         \n1       1.000000  0.010201 -0.001074  0.004636 -0.008629 -0.012413  0.082918   \n2       0.010201  1.000000  0.093823  0.149475  0.125682  0.113875  0.047515   \n3      -0.001074  0.093823  1.000000  0.281502 -0.015372  0.086019 -0.006997   \n4       0.004636  0.149475  0.281502  1.000000  0.023080  0.051967 -0.006703   \n5      -0.008629  0.125682 -0.015372  0.023080  1.000000  0.102048  0.191285   \n\nuserId        8         9         10  ...        66        67        68  \\\nuserId                                ...                                 \n1      -0.008348 -0.009415  0.009031  ...  0.006200 -0.012525  0.109552   \n2       0.137379  0.083273  0.134199  ...  0.131331  0.087306  0.084431   \n3      -0.012480 -0.043644  0.088017  ...  0.040714 -0.044089  0.110521   \n4       0.037243  0.008647  0.054529  ...  0.019619  0.022974  0.149917   \n5       0.282524  0.185378  0.254675  ...  0.123302  0.096240  0.018173   \n\nuserId        69        70        71        72        73        74        75  \nuserId                                                                        \n1       0.050013  0.066039 -0.014767 -0.021501 -0.015032  0.027486 -0.002442  \n2       0.252501  0.290441  0.224253  0.141783  0.035913  0.080509  0.131457  \n3       0.201226  0.138870  0.127157 -0.104538 -0.000035  0.001178  0.016536  \n4       0.138742  0.147264  0.163868 -0.026823 -0.003309 -0.001956  0.021134  \n5       0.135603  0.153964  0.167625  0.189669  0.264584  0.251744  0.263324  \n\n[5 rows x 75 columns]",
      "text/html": "<div>\n<style scoped>\n    .dataframe tbody tr th:only-of-type {\n        vertical-align: middle;\n    }\n\n    .dataframe tbody tr th {\n        vertical-align: top;\n    }\n\n    .dataframe thead th {\n        text-align: right;\n    }\n</style>\n<table border=\"1\" class=\"dataframe\">\n  <thead>\n    <tr style=\"text-align: right;\">\n      <th>userId</th>\n      <th>1</th>\n      <th>2</th>\n      <th>3</th>\n      <th>4</th>\n      <th>5</th>\n      <th>6</th>\n      <th>7</th>\n      <th>8</th>\n      <th>9</th>\n      <th>10</th>\n      <th>...</th>\n      <th>66</th>\n      <th>67</th>\n      <th>68</th>\n      <th>69</th>\n      <th>70</th>\n      <th>71</th>\n      <th>72</th>\n      <th>73</th>\n      <th>74</th>\n      <th>75</th>\n    </tr>\n    <tr>\n      <th>userId</th>\n      <th></th>\n      <th></th>\n      <th></th>\n      <th></th>\n      <th></th>\n      <th></th>\n      <th></th>\n      <th></th>\n      <th></th>\n      <th></th>\n      <th></th>\n      <th></th>\n      <th></th>\n      <th></th>\n      <th></th>\n      <th></th>\n      <th></th>\n      <th></th>\n      <th></th>\n      <th></th>\n      <th></th>\n    </tr>\n  </thead>\n  <tbody>\n    <tr>\n      <th>1</th>\n      <td>1.000000</td>\n      <td>0.010201</td>\n      <td>-0.001074</td>\n      <td>0.004636</td>\n      <td>-0.008629</td>\n      <td>-0.012413</td>\n      <td>0.082918</td>\n      <td>-0.008348</td>\n      <td>-0.009415</td>\n      <td>0.009031</td>\n      <td>...</td>\n      <td>0.006200</td>\n      <td>-0.012525</td>\n      <td>0.109552</td>\n      <td>0.050013</td>\n      <td>0.066039</td>\n      <td>-0.014767</td>\n      <td>-0.021501</td>\n      <td>-0.015032</td>\n      <td>0.027486</td>\n      <td>-0.002442</td>\n    </tr>\n    <tr>\n      <th>2</th>\n      <td>0.010201</td>\n      <td>1.000000</td>\n      <td>0.093823</td>\n      <td>0.149475</td>\n      <td>0.125682</td>\n      <td>0.113875</td>\n      <td>0.047515</td>\n      <td>0.137379</td>\n      <td>0.083273</td>\n      <td>0.134199</td>\n      <td>...</td>\n      <td>0.131331</td>\n      <td>0.087306</td>\n      <td>0.084431</td>\n      <td>0.252501</td>\n      <td>0.290441</td>\n      <td>0.224253</td>\n      <td>0.141783</td>\n      <td>0.035913</td>\n      <td>0.080509</td>\n      <td>0.131457</td>\n    </tr>\n    <tr>\n      <th>3</th>\n      <td>-0.001074</td>\n      <td>0.093823</td>\n      <td>1.000000</td>\n      <td>0.281502</td>\n      <td>-0.015372</td>\n      <td>0.086019</td>\n      <td>-0.006997</td>\n      <td>-0.012480</td>\n      <td>-0.043644</td>\n      <td>0.088017</td>\n      <td>...</td>\n      <td>0.040714</td>\n      <td>-0.044089</td>\n      <td>0.110521</td>\n      <td>0.201226</td>\n      <td>0.138870</td>\n      <td>0.127157</td>\n      <td>-0.104538</td>\n      <td>-0.000035</td>\n      <td>0.001178</td>\n      <td>0.016536</td>\n    </tr>\n    <tr>\n      <th>4</th>\n      <td>0.004636</td>\n      <td>0.149475</td>\n      <td>0.281502</td>\n      <td>1.000000</td>\n      <td>0.023080</td>\n      <td>0.051967</td>\n      <td>-0.006703</td>\n      <td>0.037243</td>\n      <td>0.008647</td>\n      <td>0.054529</td>\n      <td>...</td>\n      <td>0.019619</td>\n      <td>0.022974</td>\n      <td>0.149917</td>\n      <td>0.138742</td>\n      <td>0.147264</td>\n      <td>0.163868</td>\n      <td>-0.026823</td>\n      <td>-0.003309</td>\n      <td>-0.001956</td>\n      <td>0.021134</td>\n    </tr>\n    <tr>\n      <th>5</th>\n      <td>-0.008629</td>\n      <td>0.125682</td>\n      <td>-0.015372</td>\n      <td>0.023080</td>\n      <td>1.000000</td>\n      <td>0.102048</td>\n      <td>0.191285</td>\n      <td>0.282524</td>\n      <td>0.185378</td>\n      <td>0.254675</td>\n      <td>...</td>\n      <td>0.123302</td>\n      <td>0.096240</td>\n      <td>0.018173</td>\n      <td>0.135603</td>\n      <td>0.153964</td>\n      <td>0.167625</td>\n      <td>0.189669</td>\n      <td>0.264584</td>\n      <td>0.251744</td>\n      <td>0.263324</td>\n    </tr>\n  </tbody>\n</table>\n<p>5 rows × 75 columns</p>\n</div>"
     },
     "execution_count": 55,
     "metadata": {},
     "output_type": "execute_result"
    }
   ],
   "source": [
    "import pandas as pd\n",
    "\n",
    "user_ratings_transposed = user_ratings_pivot.T\n",
    "\n",
    "user_corr_matrix = user_ratings_transposed.corr(method='pearson')\n",
    "\n",
    "user_corr_matrix_df = pd.DataFrame(user_corr_matrix, columns=user_ratings_transposed.columns,\n",
    "                                   index=user_ratings_transposed.columns)\n",
    "\n",
    "\n",
    "user_corr_matrix_df.head()"
   ],
   "metadata": {
    "collapsed": false,
    "ExecuteTime": {
     "end_time": "2024-03-27T11:47:58.303953Z",
     "start_time": "2024-03-27T11:47:58.261101Z"
    }
   }
  },
  {
   "cell_type": "markdown",
   "source": [
    "We can also measure the similarity between users by calculating the Pearson correlation coefficient. The Pearson correlation coefficient measures the linear relationship between two variables. We can use this to measure the similarity between users based on their ratings."
   ],
   "metadata": {
    "collapsed": false
   }
  },
  {
   "cell_type": "code",
   "outputs": [
    {
     "data": {
      "text/plain": "NearestNeighbors(algorithm='brute', metric='cosine')",
      "text/html": "<style>#sk-container-id-4 {\n  /* Definition of color scheme common for light and dark mode */\n  --sklearn-color-text: black;\n  --sklearn-color-line: gray;\n  /* Definition of color scheme for unfitted estimators */\n  --sklearn-color-unfitted-level-0: #fff5e6;\n  --sklearn-color-unfitted-level-1: #f6e4d2;\n  --sklearn-color-unfitted-level-2: #ffe0b3;\n  --sklearn-color-unfitted-level-3: chocolate;\n  /* Definition of color scheme for fitted estimators */\n  --sklearn-color-fitted-level-0: #f0f8ff;\n  --sklearn-color-fitted-level-1: #d4ebff;\n  --sklearn-color-fitted-level-2: #b3dbfd;\n  --sklearn-color-fitted-level-3: cornflowerblue;\n\n  /* Specific color for light theme */\n  --sklearn-color-text-on-default-background: var(--sg-text-color, var(--theme-code-foreground, var(--jp-content-font-color1, black)));\n  --sklearn-color-background: var(--sg-background-color, var(--theme-background, var(--jp-layout-color0, white)));\n  --sklearn-color-border-box: var(--sg-text-color, var(--theme-code-foreground, var(--jp-content-font-color1, black)));\n  --sklearn-color-icon: #696969;\n\n  @media (prefers-color-scheme: dark) {\n    /* Redefinition of color scheme for dark theme */\n    --sklearn-color-text-on-default-background: var(--sg-text-color, var(--theme-code-foreground, var(--jp-content-font-color1, white)));\n    --sklearn-color-background: var(--sg-background-color, var(--theme-background, var(--jp-layout-color0, #111)));\n    --sklearn-color-border-box: var(--sg-text-color, var(--theme-code-foreground, var(--jp-content-font-color1, white)));\n    --sklearn-color-icon: #878787;\n  }\n}\n\n#sk-container-id-4 {\n  color: var(--sklearn-color-text);\n}\n\n#sk-container-id-4 pre {\n  padding: 0;\n}\n\n#sk-container-id-4 input.sk-hidden--visually {\n  border: 0;\n  clip: rect(1px 1px 1px 1px);\n  clip: rect(1px, 1px, 1px, 1px);\n  height: 1px;\n  margin: -1px;\n  overflow: hidden;\n  padding: 0;\n  position: absolute;\n  width: 1px;\n}\n\n#sk-container-id-4 div.sk-dashed-wrapped {\n  border: 1px dashed var(--sklearn-color-line);\n  margin: 0 0.4em 0.5em 0.4em;\n  box-sizing: border-box;\n  padding-bottom: 0.4em;\n  background-color: var(--sklearn-color-background);\n}\n\n#sk-container-id-4 div.sk-container {\n  /* jupyter's `normalize.less` sets `[hidden] { display: none; }`\n     but bootstrap.min.css set `[hidden] { display: none !important; }`\n     so we also need the `!important` here to be able to override the\n     default hidden behavior on the sphinx rendered scikit-learn.org.\n     See: https://github.com/scikit-learn/scikit-learn/issues/21755 */\n  display: inline-block !important;\n  position: relative;\n}\n\n#sk-container-id-4 div.sk-text-repr-fallback {\n  display: none;\n}\n\ndiv.sk-parallel-item,\ndiv.sk-serial,\ndiv.sk-item {\n  /* draw centered vertical line to link estimators */\n  background-image: linear-gradient(var(--sklearn-color-text-on-default-background), var(--sklearn-color-text-on-default-background));\n  background-size: 2px 100%;\n  background-repeat: no-repeat;\n  background-position: center center;\n}\n\n/* Parallel-specific style estimator block */\n\n#sk-container-id-4 div.sk-parallel-item::after {\n  content: \"\";\n  width: 100%;\n  border-bottom: 2px solid var(--sklearn-color-text-on-default-background);\n  flex-grow: 1;\n}\n\n#sk-container-id-4 div.sk-parallel {\n  display: flex;\n  align-items: stretch;\n  justify-content: center;\n  background-color: var(--sklearn-color-background);\n  position: relative;\n}\n\n#sk-container-id-4 div.sk-parallel-item {\n  display: flex;\n  flex-direction: column;\n}\n\n#sk-container-id-4 div.sk-parallel-item:first-child::after {\n  align-self: flex-end;\n  width: 50%;\n}\n\n#sk-container-id-4 div.sk-parallel-item:last-child::after {\n  align-self: flex-start;\n  width: 50%;\n}\n\n#sk-container-id-4 div.sk-parallel-item:only-child::after {\n  width: 0;\n}\n\n/* Serial-specific style estimator block */\n\n#sk-container-id-4 div.sk-serial {\n  display: flex;\n  flex-direction: column;\n  align-items: center;\n  background-color: var(--sklearn-color-background);\n  padding-right: 1em;\n  padding-left: 1em;\n}\n\n\n/* Toggleable style: style used for estimator/Pipeline/ColumnTransformer box that is\nclickable and can be expanded/collapsed.\n- Pipeline and ColumnTransformer use this feature and define the default style\n- Estimators will overwrite some part of the style using the `sk-estimator` class\n*/\n\n/* Pipeline and ColumnTransformer style (default) */\n\n#sk-container-id-4 div.sk-toggleable {\n  /* Default theme specific background. It is overwritten whether we have a\n  specific estimator or a Pipeline/ColumnTransformer */\n  background-color: var(--sklearn-color-background);\n}\n\n/* Toggleable label */\n#sk-container-id-4 label.sk-toggleable__label {\n  cursor: pointer;\n  display: block;\n  width: 100%;\n  margin-bottom: 0;\n  padding: 0.5em;\n  box-sizing: border-box;\n  text-align: center;\n}\n\n#sk-container-id-4 label.sk-toggleable__label-arrow:before {\n  /* Arrow on the left of the label */\n  content: \"▸\";\n  float: left;\n  margin-right: 0.25em;\n  color: var(--sklearn-color-icon);\n}\n\n#sk-container-id-4 label.sk-toggleable__label-arrow:hover:before {\n  color: var(--sklearn-color-text);\n}\n\n/* Toggleable content - dropdown */\n\n#sk-container-id-4 div.sk-toggleable__content {\n  max-height: 0;\n  max-width: 0;\n  overflow: hidden;\n  text-align: left;\n  /* unfitted */\n  background-color: var(--sklearn-color-unfitted-level-0);\n}\n\n#sk-container-id-4 div.sk-toggleable__content.fitted {\n  /* fitted */\n  background-color: var(--sklearn-color-fitted-level-0);\n}\n\n#sk-container-id-4 div.sk-toggleable__content pre {\n  margin: 0.2em;\n  border-radius: 0.25em;\n  color: var(--sklearn-color-text);\n  /* unfitted */\n  background-color: var(--sklearn-color-unfitted-level-0);\n}\n\n#sk-container-id-4 div.sk-toggleable__content.fitted pre {\n  /* unfitted */\n  background-color: var(--sklearn-color-fitted-level-0);\n}\n\n#sk-container-id-4 input.sk-toggleable__control:checked~div.sk-toggleable__content {\n  /* Expand drop-down */\n  max-height: 200px;\n  max-width: 100%;\n  overflow: auto;\n}\n\n#sk-container-id-4 input.sk-toggleable__control:checked~label.sk-toggleable__label-arrow:before {\n  content: \"▾\";\n}\n\n/* Pipeline/ColumnTransformer-specific style */\n\n#sk-container-id-4 div.sk-label input.sk-toggleable__control:checked~label.sk-toggleable__label {\n  color: var(--sklearn-color-text);\n  background-color: var(--sklearn-color-unfitted-level-2);\n}\n\n#sk-container-id-4 div.sk-label.fitted input.sk-toggleable__control:checked~label.sk-toggleable__label {\n  background-color: var(--sklearn-color-fitted-level-2);\n}\n\n/* Estimator-specific style */\n\n/* Colorize estimator box */\n#sk-container-id-4 div.sk-estimator input.sk-toggleable__control:checked~label.sk-toggleable__label {\n  /* unfitted */\n  background-color: var(--sklearn-color-unfitted-level-2);\n}\n\n#sk-container-id-4 div.sk-estimator.fitted input.sk-toggleable__control:checked~label.sk-toggleable__label {\n  /* fitted */\n  background-color: var(--sklearn-color-fitted-level-2);\n}\n\n#sk-container-id-4 div.sk-label label.sk-toggleable__label,\n#sk-container-id-4 div.sk-label label {\n  /* The background is the default theme color */\n  color: var(--sklearn-color-text-on-default-background);\n}\n\n/* On hover, darken the color of the background */\n#sk-container-id-4 div.sk-label:hover label.sk-toggleable__label {\n  color: var(--sklearn-color-text);\n  background-color: var(--sklearn-color-unfitted-level-2);\n}\n\n/* Label box, darken color on hover, fitted */\n#sk-container-id-4 div.sk-label.fitted:hover label.sk-toggleable__label.fitted {\n  color: var(--sklearn-color-text);\n  background-color: var(--sklearn-color-fitted-level-2);\n}\n\n/* Estimator label */\n\n#sk-container-id-4 div.sk-label label {\n  font-family: monospace;\n  font-weight: bold;\n  display: inline-block;\n  line-height: 1.2em;\n}\n\n#sk-container-id-4 div.sk-label-container {\n  text-align: center;\n}\n\n/* Estimator-specific */\n#sk-container-id-4 div.sk-estimator {\n  font-family: monospace;\n  border: 1px dotted var(--sklearn-color-border-box);\n  border-radius: 0.25em;\n  box-sizing: border-box;\n  margin-bottom: 0.5em;\n  /* unfitted */\n  background-color: var(--sklearn-color-unfitted-level-0);\n}\n\n#sk-container-id-4 div.sk-estimator.fitted {\n  /* fitted */\n  background-color: var(--sklearn-color-fitted-level-0);\n}\n\n/* on hover */\n#sk-container-id-4 div.sk-estimator:hover {\n  /* unfitted */\n  background-color: var(--sklearn-color-unfitted-level-2);\n}\n\n#sk-container-id-4 div.sk-estimator.fitted:hover {\n  /* fitted */\n  background-color: var(--sklearn-color-fitted-level-2);\n}\n\n/* Specification for estimator info (e.g. \"i\" and \"?\") */\n\n/* Common style for \"i\" and \"?\" */\n\n.sk-estimator-doc-link,\na:link.sk-estimator-doc-link,\na:visited.sk-estimator-doc-link {\n  float: right;\n  font-size: smaller;\n  line-height: 1em;\n  font-family: monospace;\n  background-color: var(--sklearn-color-background);\n  border-radius: 1em;\n  height: 1em;\n  width: 1em;\n  text-decoration: none !important;\n  margin-left: 1ex;\n  /* unfitted */\n  border: var(--sklearn-color-unfitted-level-1) 1pt solid;\n  color: var(--sklearn-color-unfitted-level-1);\n}\n\n.sk-estimator-doc-link.fitted,\na:link.sk-estimator-doc-link.fitted,\na:visited.sk-estimator-doc-link.fitted {\n  /* fitted */\n  border: var(--sklearn-color-fitted-level-1) 1pt solid;\n  color: var(--sklearn-color-fitted-level-1);\n}\n\n/* On hover */\ndiv.sk-estimator:hover .sk-estimator-doc-link:hover,\n.sk-estimator-doc-link:hover,\ndiv.sk-label-container:hover .sk-estimator-doc-link:hover,\n.sk-estimator-doc-link:hover {\n  /* unfitted */\n  background-color: var(--sklearn-color-unfitted-level-3);\n  color: var(--sklearn-color-background);\n  text-decoration: none;\n}\n\ndiv.sk-estimator.fitted:hover .sk-estimator-doc-link.fitted:hover,\n.sk-estimator-doc-link.fitted:hover,\ndiv.sk-label-container:hover .sk-estimator-doc-link.fitted:hover,\n.sk-estimator-doc-link.fitted:hover {\n  /* fitted */\n  background-color: var(--sklearn-color-fitted-level-3);\n  color: var(--sklearn-color-background);\n  text-decoration: none;\n}\n\n/* Span, style for the box shown on hovering the info icon */\n.sk-estimator-doc-link span {\n  display: none;\n  z-index: 9999;\n  position: relative;\n  font-weight: normal;\n  right: .2ex;\n  padding: .5ex;\n  margin: .5ex;\n  width: min-content;\n  min-width: 20ex;\n  max-width: 50ex;\n  color: var(--sklearn-color-text);\n  box-shadow: 2pt 2pt 4pt #999;\n  /* unfitted */\n  background: var(--sklearn-color-unfitted-level-0);\n  border: .5pt solid var(--sklearn-color-unfitted-level-3);\n}\n\n.sk-estimator-doc-link.fitted span {\n  /* fitted */\n  background: var(--sklearn-color-fitted-level-0);\n  border: var(--sklearn-color-fitted-level-3);\n}\n\n.sk-estimator-doc-link:hover span {\n  display: block;\n}\n\n/* \"?\"-specific style due to the `<a>` HTML tag */\n\n#sk-container-id-4 a.estimator_doc_link {\n  float: right;\n  font-size: 1rem;\n  line-height: 1em;\n  font-family: monospace;\n  background-color: var(--sklearn-color-background);\n  border-radius: 1rem;\n  height: 1rem;\n  width: 1rem;\n  text-decoration: none;\n  /* unfitted */\n  color: var(--sklearn-color-unfitted-level-1);\n  border: var(--sklearn-color-unfitted-level-1) 1pt solid;\n}\n\n#sk-container-id-4 a.estimator_doc_link.fitted {\n  /* fitted */\n  border: var(--sklearn-color-fitted-level-1) 1pt solid;\n  color: var(--sklearn-color-fitted-level-1);\n}\n\n/* On hover */\n#sk-container-id-4 a.estimator_doc_link:hover {\n  /* unfitted */\n  background-color: var(--sklearn-color-unfitted-level-3);\n  color: var(--sklearn-color-background);\n  text-decoration: none;\n}\n\n#sk-container-id-4 a.estimator_doc_link.fitted:hover {\n  /* fitted */\n  background-color: var(--sklearn-color-fitted-level-3);\n}\n</style><div id=\"sk-container-id-4\" class=\"sk-top-container\"><div class=\"sk-text-repr-fallback\"><pre>NearestNeighbors(algorithm=&#x27;brute&#x27;, metric=&#x27;cosine&#x27;)</pre><b>In a Jupyter environment, please rerun this cell to show the HTML representation or trust the notebook. <br />On GitHub, the HTML representation is unable to render, please try loading this page with nbviewer.org.</b></div><div class=\"sk-container\" hidden><div class=\"sk-item\"><div class=\"sk-estimator fitted sk-toggleable\"><input class=\"sk-toggleable__control sk-hidden--visually\" id=\"sk-estimator-id-4\" type=\"checkbox\" checked><label for=\"sk-estimator-id-4\" class=\"sk-toggleable__label fitted sk-toggleable__label-arrow fitted\">&nbsp;&nbsp;NearestNeighbors<a class=\"sk-estimator-doc-link fitted\" rel=\"noreferrer\" target=\"_blank\" href=\"https://scikit-learn.org/1.4/modules/generated/sklearn.neighbors.NearestNeighbors.html\">?<span>Documentation for NearestNeighbors</span></a><span class=\"sk-estimator-doc-link fitted\">i<span>Fitted</span></span></label><div class=\"sk-toggleable__content fitted\"><pre>NearestNeighbors(algorithm=&#x27;brute&#x27;, metric=&#x27;cosine&#x27;)</pre></div> </div></div></div></div>"
     },
     "execution_count": 56,
     "metadata": {},
     "output_type": "execute_result"
    }
   ],
   "source": [
    "from scipy.sparse import csr_matrix\n",
    "\n",
    "movie_features_df_matrix = csr_matrix(filled_user_item_matrix.values)\n",
    "\n",
    "from sklearn.neighbors import NearestNeighbors\n",
    "\n",
    "\n",
    "model_knn = NearestNeighbors(metric = 'cosine', algorithm = 'brute')\n",
    "model_knn.fit(movie_features_df_matrix)"
   ],
   "metadata": {
    "collapsed": false,
    "ExecuteTime": {
     "end_time": "2024-03-27T11:48:23.577206Z",
     "start_time": "2024-03-27T11:48:23.551553Z"
    }
   },
   "execution_count": 56
  },
  {
   "cell_type": "markdown",
   "source": [
    "We can use the NearestNeighbors algorithm to find the k-nearest neighbors of a user. We use the cosine similarity metric to measure the similarity between users."
   ],
   "metadata": {
    "collapsed": false
   }
  },
  {
   "cell_type": "code",
   "outputs": [
    {
     "name": "stdout",
     "output_type": "stream",
     "text": [
      "30\n"
     ]
    }
   ],
   "source": [
    "query_index = np.random.choice(user_corr_matrix_df.shape[0])\n",
    "print(query_index)"
   ],
   "metadata": {
    "collapsed": false,
    "ExecuteTime": {
     "end_time": "2024-03-27T11:53:37.794580Z",
     "start_time": "2024-03-27T11:53:37.781834Z"
    }
   },
   "execution_count": 76
  },
  {
   "cell_type": "markdown",
   "source": [
    "We use this to choose a random user to find similar users to."
   ],
   "metadata": {
    "collapsed": false
   }
  },
  {
   "cell_type": "code",
   "outputs": [],
   "source": [
    "distances, indices = model_knn.kneighbors(movie_features_df_matrix[query_index, :].reshape(1, -1), n_neighbors = 6)\n"
   ],
   "metadata": {
    "collapsed": false,
    "ExecuteTime": {
     "end_time": "2024-03-27T11:53:39.668997Z",
     "start_time": "2024-03-27T11:53:39.657641Z"
    }
   },
   "execution_count": 77
  },
  {
   "cell_type": "code",
   "outputs": [
    {
     "name": "stdout",
     "output_type": "stream",
     "text": [
      "Recommendations for 31:\n",
      "\n",
      "1: 43, with distance of 0.6475665679593291:\n",
      "2: 70, with distance of 0.6747446411980205:\n",
      "3: 18, with distance of 0.6892149751942906:\n",
      "4: 69, with distance of 0.7132821352368135:\n",
      "5: 8, with distance of 0.7835943998361411:\n"
     ]
    }
   ],
   "source": [
    "similar_users=[]\n",
    "for i in range(0, len(distances.flatten())):\n",
    "    if i == 0:\n",
    "        print('Recommendations for {0}:\\n'.format(user_corr_matrix_df.index[query_index]))\n",
    "    else:\n",
    "        print('{0}: {1}, with distance of {2}:'.format(i, user_corr_matrix_df.index[indices.flatten()[i]], distances.flatten()[i]))\n",
    "        similar_users.append(user_corr_matrix_df.index[indices.flatten()[i]])"
   ],
   "metadata": {
    "collapsed": false,
    "ExecuteTime": {
     "end_time": "2024-03-27T11:53:40.368381Z",
     "start_time": "2024-03-27T11:53:40.361003Z"
    }
   },
   "execution_count": 78
  },
  {
   "cell_type": "code",
   "outputs": [
    {
     "name": "stdout",
     "output_type": "stream",
     "text": [
      "0                                      Caddyshack (1980)\n",
      "1                                          Batman (1989)\n",
      "2                 Monty Python and the Holy Grail (1975)\n",
      "3                                          Batman (1989)\n",
      "4                                  Reservoir Dogs (1992)\n",
      "                              ...                       \n",
      "1102    Star Wars: Episode I - The Phantom Menace (1999)\n",
      "1103                      Lara Croft: Tomb Raider (2001)\n",
      "1104                                        Speed (1994)\n",
      "1105                                      Ben-Hur (1959)\n",
      "1106                                         Fame (2009)\n",
      "Name: title, Length: 1107, dtype: object\n"
     ]
    }
   ],
   "source": [
    "similar_users_ratings = ratings[ratings['userId'].isin(similar_users)]\n",
    "\n",
    "highest_rated_movies = similar_users_ratings.sort_values(by='rating', ascending=False)\n",
    "\n",
    "highest_rated_movies_names = pd.merge(highest_rated_movies, movie, on='movieId')['title']\n",
    "\n",
    "print(highest_rated_movies_names)"
   ],
   "metadata": {
    "collapsed": false,
    "ExecuteTime": {
     "end_time": "2024-03-27T11:55:01.511521Z",
     "start_time": "2024-03-27T11:55:01.362706Z"
    }
   },
   "execution_count": 80
  },
  {
   "cell_type": "markdown",
   "source": [
    "We have now found the k-nearest neighbors of a user and recommended movies based on the ratings of these similar users."
   ],
   "metadata": {
    "collapsed": false
   }
  },
  {
   "cell_type": "code",
   "outputs": [],
   "source": [],
   "metadata": {
    "collapsed": false
   }
  }
 ],
 "metadata": {
  "kaggle": {
   "accelerator": "none",
   "dataSources": [
    {
     "datasetId": 1586809,
     "sourceId": 2610766,
     "sourceType": "datasetVersion"
    }
   ],
   "dockerImageVersionId": 30627,
   "isGpuEnabled": false,
   "isInternetEnabled": false,
   "language": "python",
   "sourceType": "notebook"
  },
  "kernelspec": {
   "display_name": "Python 3 (ipykernel)",
   "language": "python",
   "name": "python3"
  },
  "language_info": {
   "codemirror_mode": {
    "name": "ipython",
    "version": 3
   },
   "file_extension": ".py",
   "mimetype": "text/x-python",
   "name": "python",
   "nbconvert_exporter": "python",
   "pygments_lexer": "ipython3",
   "version": "3.9.0"
  }
 },
 "nbformat": 4,
 "nbformat_minor": 4
}
