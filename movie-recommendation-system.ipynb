{
 "cells": [
  {
   "cell_type": "code",
   "execution_count": 2,
   "metadata": {
    "_cell_guid": "b1076dfc-b9ad-4769-8c92-a6c4dae69d19",
    "_uuid": "8f2839f25d086af736a60e9eeb907d3b93b6e0e5",
    "ExecuteTime": {
     "end_time": "2024-01-24T22:21:26.709920800Z",
     "start_time": "2024-01-24T22:21:24.873223100Z"
    }
   },
   "outputs": [],
   "source": [
    "import pandas as pd"
   ]
  },
  {
   "cell_type": "code",
   "execution_count": 3,
   "metadata": {
    "ExecuteTime": {
     "end_time": "2024-01-24T22:21:31.771237800Z",
     "start_time": "2024-01-24T22:21:26.709920800Z"
    }
   },
   "outputs": [],
   "source": [
    "movie = pd.read_csv('ml-25m/movies.csv')\n",
    "ratings = pd.read_csv('ml-25m/ratings.csv')"
   ]
  },
  {
   "cell_type": "code",
   "execution_count": 4,
   "metadata": {
    "ExecuteTime": {
     "end_time": "2024-01-24T22:21:31.810330700Z",
     "start_time": "2024-01-24T22:21:31.770237600Z"
    }
   },
   "outputs": [
    {
     "data": {
      "text/plain": "   movieId                               title  \\\n0        1                    Toy Story (1995)   \n1        2                      Jumanji (1995)   \n2        3             Grumpier Old Men (1995)   \n3        4            Waiting to Exhale (1995)   \n4        5  Father of the Bride Part II (1995)   \n\n                                        genres  \n0  Adventure|Animation|Children|Comedy|Fantasy  \n1                   Adventure|Children|Fantasy  \n2                               Comedy|Romance  \n3                         Comedy|Drama|Romance  \n4                                       Comedy  ",
      "text/html": "<div>\n<style scoped>\n    .dataframe tbody tr th:only-of-type {\n        vertical-align: middle;\n    }\n\n    .dataframe tbody tr th {\n        vertical-align: top;\n    }\n\n    .dataframe thead th {\n        text-align: right;\n    }\n</style>\n<table border=\"1\" class=\"dataframe\">\n  <thead>\n    <tr style=\"text-align: right;\">\n      <th></th>\n      <th>movieId</th>\n      <th>title</th>\n      <th>genres</th>\n    </tr>\n  </thead>\n  <tbody>\n    <tr>\n      <th>0</th>\n      <td>1</td>\n      <td>Toy Story (1995)</td>\n      <td>Adventure|Animation|Children|Comedy|Fantasy</td>\n    </tr>\n    <tr>\n      <th>1</th>\n      <td>2</td>\n      <td>Jumanji (1995)</td>\n      <td>Adventure|Children|Fantasy</td>\n    </tr>\n    <tr>\n      <th>2</th>\n      <td>3</td>\n      <td>Grumpier Old Men (1995)</td>\n      <td>Comedy|Romance</td>\n    </tr>\n    <tr>\n      <th>3</th>\n      <td>4</td>\n      <td>Waiting to Exhale (1995)</td>\n      <td>Comedy|Drama|Romance</td>\n    </tr>\n    <tr>\n      <th>4</th>\n      <td>5</td>\n      <td>Father of the Bride Part II (1995)</td>\n      <td>Comedy</td>\n    </tr>\n  </tbody>\n</table>\n</div>"
     },
     "execution_count": 4,
     "metadata": {},
     "output_type": "execute_result"
    }
   ],
   "source": [
    "movie.head()"
   ]
  },
  {
   "cell_type": "code",
   "execution_count": 5,
   "metadata": {
    "ExecuteTime": {
     "end_time": "2024-01-24T22:21:31.871749100Z",
     "start_time": "2024-01-24T22:21:31.806150900Z"
    }
   },
   "outputs": [
    {
     "data": {
      "text/plain": "   userId  movieId  rating   timestamp\n0       1      296     5.0  1147880044\n1       1      306     3.5  1147868817\n2       1      307     5.0  1147868828\n3       1      665     5.0  1147878820\n4       1      899     3.5  1147868510",
      "text/html": "<div>\n<style scoped>\n    .dataframe tbody tr th:only-of-type {\n        vertical-align: middle;\n    }\n\n    .dataframe tbody tr th {\n        vertical-align: top;\n    }\n\n    .dataframe thead th {\n        text-align: right;\n    }\n</style>\n<table border=\"1\" class=\"dataframe\">\n  <thead>\n    <tr style=\"text-align: right;\">\n      <th></th>\n      <th>userId</th>\n      <th>movieId</th>\n      <th>rating</th>\n      <th>timestamp</th>\n    </tr>\n  </thead>\n  <tbody>\n    <tr>\n      <th>0</th>\n      <td>1</td>\n      <td>296</td>\n      <td>5.0</td>\n      <td>1147880044</td>\n    </tr>\n    <tr>\n      <th>1</th>\n      <td>1</td>\n      <td>306</td>\n      <td>3.5</td>\n      <td>1147868817</td>\n    </tr>\n    <tr>\n      <th>2</th>\n      <td>1</td>\n      <td>307</td>\n      <td>5.0</td>\n      <td>1147868828</td>\n    </tr>\n    <tr>\n      <th>3</th>\n      <td>1</td>\n      <td>665</td>\n      <td>5.0</td>\n      <td>1147878820</td>\n    </tr>\n    <tr>\n      <th>4</th>\n      <td>1</td>\n      <td>899</td>\n      <td>3.5</td>\n      <td>1147868510</td>\n    </tr>\n  </tbody>\n</table>\n</div>"
     },
     "execution_count": 5,
     "metadata": {},
     "output_type": "execute_result"
    }
   ],
   "source": [
    "ratings.head()"
   ]
  },
  {
   "cell_type": "code",
   "execution_count": 6,
   "metadata": {
    "ExecuteTime": {
     "end_time": "2024-01-24T22:21:32.008887100Z",
     "start_time": "2024-01-24T22:21:31.818846900Z"
    }
   },
   "outputs": [],
   "source": [
    "ratings = ratings.drop('timestamp', axis=1)"
   ]
  },
  {
   "cell_type": "code",
   "execution_count": 7,
   "metadata": {
    "execution": {
     "iopub.execute_input": "2023-12-22T07:41:48.111700Z",
     "iopub.status.busy": "2023-12-22T07:41:48.111394Z",
     "iopub.status.idle": "2023-12-22T07:41:48.121105Z",
     "shell.execute_reply": "2023-12-22T07:41:48.119990Z",
     "shell.execute_reply.started": "2023-12-22T07:41:48.111673Z"
    },
    "ExecuteTime": {
     "end_time": "2024-01-24T22:21:32.030669900Z",
     "start_time": "2024-01-24T22:21:32.007888Z"
    }
   },
   "outputs": [
    {
     "data": {
      "text/plain": "   userId  movieId  rating\n0       1      296     5.0\n1       1      306     3.5\n2       1      307     5.0\n3       1      665     5.0\n4       1      899     3.5",
      "text/html": "<div>\n<style scoped>\n    .dataframe tbody tr th:only-of-type {\n        vertical-align: middle;\n    }\n\n    .dataframe tbody tr th {\n        vertical-align: top;\n    }\n\n    .dataframe thead th {\n        text-align: right;\n    }\n</style>\n<table border=\"1\" class=\"dataframe\">\n  <thead>\n    <tr style=\"text-align: right;\">\n      <th></th>\n      <th>userId</th>\n      <th>movieId</th>\n      <th>rating</th>\n    </tr>\n  </thead>\n  <tbody>\n    <tr>\n      <th>0</th>\n      <td>1</td>\n      <td>296</td>\n      <td>5.0</td>\n    </tr>\n    <tr>\n      <th>1</th>\n      <td>1</td>\n      <td>306</td>\n      <td>3.5</td>\n    </tr>\n    <tr>\n      <th>2</th>\n      <td>1</td>\n      <td>307</td>\n      <td>5.0</td>\n    </tr>\n    <tr>\n      <th>3</th>\n      <td>1</td>\n      <td>665</td>\n      <td>5.0</td>\n    </tr>\n    <tr>\n      <th>4</th>\n      <td>1</td>\n      <td>899</td>\n      <td>3.5</td>\n    </tr>\n  </tbody>\n</table>\n</div>"
     },
     "execution_count": 7,
     "metadata": {},
     "output_type": "execute_result"
    }
   ],
   "source": [
    "ratings.head()"
   ]
  },
  {
   "cell_type": "code",
   "execution_count": 20,
   "metadata": {
    "execution": {
     "iopub.execute_input": "2023-12-22T08:15:29.956850Z",
     "iopub.status.busy": "2023-12-22T08:15:29.955906Z",
     "iopub.status.idle": "2023-12-22T08:16:38.623532Z",
     "shell.execute_reply": "2023-12-22T08:16:38.622313Z",
     "shell.execute_reply.started": "2023-12-22T08:15:29.956812Z"
    },
    "ExecuteTime": {
     "end_time": "2024-01-24T22:37:36.670374700Z",
     "start_time": "2024-01-24T22:37:29.423287500Z"
    }
   },
   "outputs": [],
   "source": [
    "import pandas as pd\n",
    "\n",
    "ratings_df = pd.read_csv('ml-25m/ratings.csv')\n",
    "movies_df = pd.read_csv('ml-25m/movies.csv')\n",
    "\n",
    "movies_ratings_df = pd.merge(ratings_df, movies_df, on=\"movieId\")\n",
    "\n",
    "small_movies_ratings_df = movies_ratings_df[:10000]\n",
    "\n",
    "ratings_df = small_movies_ratings_df.reset_index(drop=True)\n",
    "\n",
    "user_ratings_pivot = ratings_df.pivot(index='userId', columns='movieId', values='rating').fillna(0)\n",
    "\n",
    "avg_ratings = user_ratings_pivot.mean(axis=1)\n",
    "filled_user_item_matrix = user_ratings_pivot.sub(avg_ratings, axis=0).fillna(0)\n"
   ]
  },
  {
   "cell_type": "code",
   "execution_count": 21,
   "outputs": [
    {
     "data": {
      "text/plain": "movieId    1         2         3         5         6         7         9       \\\nuserId                                                                          \n1       -0.081229 -0.081229 -0.081229 -0.081229 -0.081229 -0.081229 -0.081229   \n2        3.296775 -0.203225 -0.203225 -0.203225 -0.203225 -0.203225 -0.203225   \n3        3.262093 -0.737907 -0.737907 -0.737907 -0.737907 -0.737907 -0.737907   \n4        2.751293 -0.248707 -0.248707 -0.248707 -0.248707 -0.248707 -0.248707   \n5        3.884697 -0.115303 -0.115303 -0.115303 -0.115303 -0.115303 -0.115303   \n\nmovieId    10        11        14      ...    182715    182823    187541  \\\nuserId                                 ...                                 \n1       -0.081229 -0.081229 -0.081229  ... -0.081229 -0.081229 -0.081229   \n2       -0.203225 -0.203225 -0.203225  ... -0.203225 -0.203225 -0.203225   \n3       -0.737907 -0.737907 -0.737907  ... -0.737907  2.262093  2.762093   \n4       -0.248707 -0.248707 -0.248707  ...  4.251293 -0.248707  3.251293   \n5       -0.115303 -0.115303 -0.115303  ... -0.115303 -0.115303 -0.115303   \n\nmovieId    187593    189333    195159    200818    200838    203375    203519  \nuserId                                                                         \n1       -0.081229 -0.081229 -0.081229 -0.081229 -0.081229 -0.081229 -0.081229  \n2       -0.203225 -0.203225 -0.203225 -0.203225 -0.203225 -0.203225 -0.203225  \n3        3.762093 -0.737907 -0.737907 -0.737907 -0.737907 -0.737907 -0.737907  \n4        3.251293  3.751293  4.751293  4.751293  2.751293  4.251293  2.251293  \n5       -0.115303 -0.115303 -0.115303 -0.115303 -0.115303 -0.115303 -0.115303  \n\n[5 rows x 3287 columns]",
      "text/html": "<div>\n<style scoped>\n    .dataframe tbody tr th:only-of-type {\n        vertical-align: middle;\n    }\n\n    .dataframe tbody tr th {\n        vertical-align: top;\n    }\n\n    .dataframe thead th {\n        text-align: right;\n    }\n</style>\n<table border=\"1\" class=\"dataframe\">\n  <thead>\n    <tr style=\"text-align: right;\">\n      <th>movieId</th>\n      <th>1</th>\n      <th>2</th>\n      <th>3</th>\n      <th>5</th>\n      <th>6</th>\n      <th>7</th>\n      <th>9</th>\n      <th>10</th>\n      <th>11</th>\n      <th>14</th>\n      <th>...</th>\n      <th>182715</th>\n      <th>182823</th>\n      <th>187541</th>\n      <th>187593</th>\n      <th>189333</th>\n      <th>195159</th>\n      <th>200818</th>\n      <th>200838</th>\n      <th>203375</th>\n      <th>203519</th>\n    </tr>\n    <tr>\n      <th>userId</th>\n      <th></th>\n      <th></th>\n      <th></th>\n      <th></th>\n      <th></th>\n      <th></th>\n      <th></th>\n      <th></th>\n      <th></th>\n      <th></th>\n      <th></th>\n      <th></th>\n      <th></th>\n      <th></th>\n      <th></th>\n      <th></th>\n      <th></th>\n      <th></th>\n      <th></th>\n      <th></th>\n      <th></th>\n    </tr>\n  </thead>\n  <tbody>\n    <tr>\n      <th>1</th>\n      <td>-0.081229</td>\n      <td>-0.081229</td>\n      <td>-0.081229</td>\n      <td>-0.081229</td>\n      <td>-0.081229</td>\n      <td>-0.081229</td>\n      <td>-0.081229</td>\n      <td>-0.081229</td>\n      <td>-0.081229</td>\n      <td>-0.081229</td>\n      <td>...</td>\n      <td>-0.081229</td>\n      <td>-0.081229</td>\n      <td>-0.081229</td>\n      <td>-0.081229</td>\n      <td>-0.081229</td>\n      <td>-0.081229</td>\n      <td>-0.081229</td>\n      <td>-0.081229</td>\n      <td>-0.081229</td>\n      <td>-0.081229</td>\n    </tr>\n    <tr>\n      <th>2</th>\n      <td>3.296775</td>\n      <td>-0.203225</td>\n      <td>-0.203225</td>\n      <td>-0.203225</td>\n      <td>-0.203225</td>\n      <td>-0.203225</td>\n      <td>-0.203225</td>\n      <td>-0.203225</td>\n      <td>-0.203225</td>\n      <td>-0.203225</td>\n      <td>...</td>\n      <td>-0.203225</td>\n      <td>-0.203225</td>\n      <td>-0.203225</td>\n      <td>-0.203225</td>\n      <td>-0.203225</td>\n      <td>-0.203225</td>\n      <td>-0.203225</td>\n      <td>-0.203225</td>\n      <td>-0.203225</td>\n      <td>-0.203225</td>\n    </tr>\n    <tr>\n      <th>3</th>\n      <td>3.262093</td>\n      <td>-0.737907</td>\n      <td>-0.737907</td>\n      <td>-0.737907</td>\n      <td>-0.737907</td>\n      <td>-0.737907</td>\n      <td>-0.737907</td>\n      <td>-0.737907</td>\n      <td>-0.737907</td>\n      <td>-0.737907</td>\n      <td>...</td>\n      <td>-0.737907</td>\n      <td>2.262093</td>\n      <td>2.762093</td>\n      <td>3.762093</td>\n      <td>-0.737907</td>\n      <td>-0.737907</td>\n      <td>-0.737907</td>\n      <td>-0.737907</td>\n      <td>-0.737907</td>\n      <td>-0.737907</td>\n    </tr>\n    <tr>\n      <th>4</th>\n      <td>2.751293</td>\n      <td>-0.248707</td>\n      <td>-0.248707</td>\n      <td>-0.248707</td>\n      <td>-0.248707</td>\n      <td>-0.248707</td>\n      <td>-0.248707</td>\n      <td>-0.248707</td>\n      <td>-0.248707</td>\n      <td>-0.248707</td>\n      <td>...</td>\n      <td>4.251293</td>\n      <td>-0.248707</td>\n      <td>3.251293</td>\n      <td>3.251293</td>\n      <td>3.751293</td>\n      <td>4.751293</td>\n      <td>4.751293</td>\n      <td>2.751293</td>\n      <td>4.251293</td>\n      <td>2.251293</td>\n    </tr>\n    <tr>\n      <th>5</th>\n      <td>3.884697</td>\n      <td>-0.115303</td>\n      <td>-0.115303</td>\n      <td>-0.115303</td>\n      <td>-0.115303</td>\n      <td>-0.115303</td>\n      <td>-0.115303</td>\n      <td>-0.115303</td>\n      <td>-0.115303</td>\n      <td>-0.115303</td>\n      <td>...</td>\n      <td>-0.115303</td>\n      <td>-0.115303</td>\n      <td>-0.115303</td>\n      <td>-0.115303</td>\n      <td>-0.115303</td>\n      <td>-0.115303</td>\n      <td>-0.115303</td>\n      <td>-0.115303</td>\n      <td>-0.115303</td>\n      <td>-0.115303</td>\n    </tr>\n  </tbody>\n</table>\n<p>5 rows × 3287 columns</p>\n</div>"
     },
     "execution_count": 21,
     "metadata": {},
     "output_type": "execute_result"
    }
   ],
   "source": [
    "filled_user_item_matrix.head()"
   ],
   "metadata": {
    "collapsed": false,
    "ExecuteTime": {
     "end_time": "2024-01-24T22:37:45.835457700Z",
     "start_time": "2024-01-24T22:37:45.800449300Z"
    }
   }
  },
  {
   "cell_type": "code",
   "execution_count": 10,
   "outputs": [
    {
     "data": {
      "text/plain": "userId        1         2         3         4         5         6         7   \\\nuserId                                                                         \n1       1.000000  0.040863  0.061306  0.040815  0.015609  0.000000  0.093852   \n2       0.040863  1.000000  0.179009  0.197496  0.158202  0.129720  0.064954   \n3       0.061306  0.179009  1.000000  0.357750  0.061448  0.115148  0.031427   \n4       0.040815  0.197496  0.357750  1.000000  0.065825  0.072365  0.015566   \n5       0.015609  0.158202  0.061448  0.065825  1.000000  0.114936  0.202348   \n\nuserId        8         9         10  ...        66        67        68  \\\nuserId                                ...                                 \n1       0.021359  0.022860  0.026149  ...  0.027029  0.014144  0.123409   \n2       0.176880  0.128820  0.156814  ...  0.159310  0.124636  0.106164   \n3       0.081003  0.061602  0.132361  ...  0.101599  0.043351  0.147375   \n4       0.088927  0.066428  0.083821  ...  0.056998  0.069856  0.172473   \n5       0.307769  0.216435  0.269897  ...  0.145419  0.124905  0.036625   \n\nuserId        69        70        71        72        73        74        75  \nuserId                                                                        \n1       0.077003  0.096766  0.000000  0.047798  0.000000  0.038120  0.016482  \n2       0.285614  0.327078  0.240235  0.225541  0.057865  0.095406  0.156462  \n3       0.265932  0.224910  0.158936  0.125179  0.046192  0.035388  0.073670  \n4       0.183328  0.198931  0.184030  0.098636  0.023829  0.018178  0.054689  \n5       0.165236  0.187503  0.181828  0.245060  0.277126  0.260568  0.279906  \n\n[5 rows x 75 columns]",
      "text/html": "<div>\n<style scoped>\n    .dataframe tbody tr th:only-of-type {\n        vertical-align: middle;\n    }\n\n    .dataframe tbody tr th {\n        vertical-align: top;\n    }\n\n    .dataframe thead th {\n        text-align: right;\n    }\n</style>\n<table border=\"1\" class=\"dataframe\">\n  <thead>\n    <tr style=\"text-align: right;\">\n      <th>userId</th>\n      <th>1</th>\n      <th>2</th>\n      <th>3</th>\n      <th>4</th>\n      <th>5</th>\n      <th>6</th>\n      <th>7</th>\n      <th>8</th>\n      <th>9</th>\n      <th>10</th>\n      <th>...</th>\n      <th>66</th>\n      <th>67</th>\n      <th>68</th>\n      <th>69</th>\n      <th>70</th>\n      <th>71</th>\n      <th>72</th>\n      <th>73</th>\n      <th>74</th>\n      <th>75</th>\n    </tr>\n    <tr>\n      <th>userId</th>\n      <th></th>\n      <th></th>\n      <th></th>\n      <th></th>\n      <th></th>\n      <th></th>\n      <th></th>\n      <th></th>\n      <th></th>\n      <th></th>\n      <th></th>\n      <th></th>\n      <th></th>\n      <th></th>\n      <th></th>\n      <th></th>\n      <th></th>\n      <th></th>\n      <th></th>\n      <th></th>\n      <th></th>\n    </tr>\n  </thead>\n  <tbody>\n    <tr>\n      <th>1</th>\n      <td>1.000000</td>\n      <td>0.040863</td>\n      <td>0.061306</td>\n      <td>0.040815</td>\n      <td>0.015609</td>\n      <td>0.000000</td>\n      <td>0.093852</td>\n      <td>0.021359</td>\n      <td>0.022860</td>\n      <td>0.026149</td>\n      <td>...</td>\n      <td>0.027029</td>\n      <td>0.014144</td>\n      <td>0.123409</td>\n      <td>0.077003</td>\n      <td>0.096766</td>\n      <td>0.000000</td>\n      <td>0.047798</td>\n      <td>0.000000</td>\n      <td>0.038120</td>\n      <td>0.016482</td>\n    </tr>\n    <tr>\n      <th>2</th>\n      <td>0.040863</td>\n      <td>1.000000</td>\n      <td>0.179009</td>\n      <td>0.197496</td>\n      <td>0.158202</td>\n      <td>0.129720</td>\n      <td>0.064954</td>\n      <td>0.176880</td>\n      <td>0.128820</td>\n      <td>0.156814</td>\n      <td>...</td>\n      <td>0.159310</td>\n      <td>0.124636</td>\n      <td>0.106164</td>\n      <td>0.285614</td>\n      <td>0.327078</td>\n      <td>0.240235</td>\n      <td>0.225541</td>\n      <td>0.057865</td>\n      <td>0.095406</td>\n      <td>0.156462</td>\n    </tr>\n    <tr>\n      <th>3</th>\n      <td>0.061306</td>\n      <td>0.179009</td>\n      <td>1.000000</td>\n      <td>0.357750</td>\n      <td>0.061448</td>\n      <td>0.115148</td>\n      <td>0.031427</td>\n      <td>0.081003</td>\n      <td>0.061602</td>\n      <td>0.132361</td>\n      <td>...</td>\n      <td>0.101599</td>\n      <td>0.043351</td>\n      <td>0.147375</td>\n      <td>0.265932</td>\n      <td>0.224910</td>\n      <td>0.158936</td>\n      <td>0.125179</td>\n      <td>0.046192</td>\n      <td>0.035388</td>\n      <td>0.073670</td>\n    </tr>\n    <tr>\n      <th>4</th>\n      <td>0.040815</td>\n      <td>0.197496</td>\n      <td>0.357750</td>\n      <td>1.000000</td>\n      <td>0.065825</td>\n      <td>0.072365</td>\n      <td>0.015566</td>\n      <td>0.088927</td>\n      <td>0.066428</td>\n      <td>0.083821</td>\n      <td>...</td>\n      <td>0.056998</td>\n      <td>0.069856</td>\n      <td>0.172473</td>\n      <td>0.183328</td>\n      <td>0.198931</td>\n      <td>0.184030</td>\n      <td>0.098636</td>\n      <td>0.023829</td>\n      <td>0.018178</td>\n      <td>0.054689</td>\n    </tr>\n    <tr>\n      <th>5</th>\n      <td>0.015609</td>\n      <td>0.158202</td>\n      <td>0.061448</td>\n      <td>0.065825</td>\n      <td>1.000000</td>\n      <td>0.114936</td>\n      <td>0.202348</td>\n      <td>0.307769</td>\n      <td>0.216435</td>\n      <td>0.269897</td>\n      <td>...</td>\n      <td>0.145419</td>\n      <td>0.124905</td>\n      <td>0.036625</td>\n      <td>0.165236</td>\n      <td>0.187503</td>\n      <td>0.181828</td>\n      <td>0.245060</td>\n      <td>0.277126</td>\n      <td>0.260568</td>\n      <td>0.279906</td>\n    </tr>\n  </tbody>\n</table>\n<p>5 rows × 75 columns</p>\n</div>"
     },
     "execution_count": 10,
     "metadata": {},
     "output_type": "execute_result"
    }
   ],
   "source": [
    "from sklearn.metrics.pairwise import cosine_similarity\n",
    "\n",
    "similarities = cosine_similarity(user_ratings_pivot)\n",
    "\n",
    "cosine_similarity_df = pd.DataFrame(similarities,\n",
    "                                    index=user_ratings_pivot.index,\n",
    "                                    columns=user_ratings_pivot.index)\n",
    "cosine_similarity_df.head()"
   ],
   "metadata": {
    "collapsed": false,
    "ExecuteTime": {
     "end_time": "2024-01-24T22:21:42.377159200Z",
     "start_time": "2024-01-24T22:21:39.130960200Z"
    }
   }
  },
  {
   "cell_type": "code",
   "execution_count": 11,
   "outputs": [
    {
     "data": {
      "text/plain": "userId        1         2         3         4         5         6         7   \\\nuserId                                                                         \n1       1.000000  0.010201 -0.001074  0.004636 -0.008629 -0.012413  0.082918   \n2       0.010201  1.000000  0.093823  0.149475  0.125682  0.113875  0.047515   \n3      -0.001074  0.093823  1.000000  0.281502 -0.015372  0.086019 -0.006997   \n4       0.004636  0.149475  0.281502  1.000000  0.023080  0.051967 -0.006703   \n5      -0.008629  0.125682 -0.015372  0.023080  1.000000  0.102048  0.191285   \n\nuserId        8         9         10  ...        66        67        68  \\\nuserId                                ...                                 \n1      -0.008348 -0.009415  0.009031  ...  0.006200 -0.012525  0.109552   \n2       0.137379  0.083273  0.134199  ...  0.131331  0.087306  0.084431   \n3      -0.012480 -0.043644  0.088017  ...  0.040714 -0.044089  0.110521   \n4       0.037243  0.008647  0.054529  ...  0.019619  0.022974  0.149917   \n5       0.282524  0.185378  0.254675  ...  0.123302  0.096240  0.018173   \n\nuserId        69        70        71        72        73        74        75  \nuserId                                                                        \n1       0.050013  0.066039 -0.014767 -0.021501 -0.015032  0.027486 -0.002442  \n2       0.252501  0.290441  0.224253  0.141783  0.035913  0.080509  0.131457  \n3       0.201226  0.138870  0.127157 -0.104538 -0.000035  0.001178  0.016536  \n4       0.138742  0.147264  0.163868 -0.026823 -0.003309 -0.001956  0.021134  \n5       0.135603  0.153964  0.167625  0.189669  0.264584  0.251744  0.263324  \n\n[5 rows x 75 columns]",
      "text/html": "<div>\n<style scoped>\n    .dataframe tbody tr th:only-of-type {\n        vertical-align: middle;\n    }\n\n    .dataframe tbody tr th {\n        vertical-align: top;\n    }\n\n    .dataframe thead th {\n        text-align: right;\n    }\n</style>\n<table border=\"1\" class=\"dataframe\">\n  <thead>\n    <tr style=\"text-align: right;\">\n      <th>userId</th>\n      <th>1</th>\n      <th>2</th>\n      <th>3</th>\n      <th>4</th>\n      <th>5</th>\n      <th>6</th>\n      <th>7</th>\n      <th>8</th>\n      <th>9</th>\n      <th>10</th>\n      <th>...</th>\n      <th>66</th>\n      <th>67</th>\n      <th>68</th>\n      <th>69</th>\n      <th>70</th>\n      <th>71</th>\n      <th>72</th>\n      <th>73</th>\n      <th>74</th>\n      <th>75</th>\n    </tr>\n    <tr>\n      <th>userId</th>\n      <th></th>\n      <th></th>\n      <th></th>\n      <th></th>\n      <th></th>\n      <th></th>\n      <th></th>\n      <th></th>\n      <th></th>\n      <th></th>\n      <th></th>\n      <th></th>\n      <th></th>\n      <th></th>\n      <th></th>\n      <th></th>\n      <th></th>\n      <th></th>\n      <th></th>\n      <th></th>\n      <th></th>\n    </tr>\n  </thead>\n  <tbody>\n    <tr>\n      <th>1</th>\n      <td>1.000000</td>\n      <td>0.010201</td>\n      <td>-0.001074</td>\n      <td>0.004636</td>\n      <td>-0.008629</td>\n      <td>-0.012413</td>\n      <td>0.082918</td>\n      <td>-0.008348</td>\n      <td>-0.009415</td>\n      <td>0.009031</td>\n      <td>...</td>\n      <td>0.006200</td>\n      <td>-0.012525</td>\n      <td>0.109552</td>\n      <td>0.050013</td>\n      <td>0.066039</td>\n      <td>-0.014767</td>\n      <td>-0.021501</td>\n      <td>-0.015032</td>\n      <td>0.027486</td>\n      <td>-0.002442</td>\n    </tr>\n    <tr>\n      <th>2</th>\n      <td>0.010201</td>\n      <td>1.000000</td>\n      <td>0.093823</td>\n      <td>0.149475</td>\n      <td>0.125682</td>\n      <td>0.113875</td>\n      <td>0.047515</td>\n      <td>0.137379</td>\n      <td>0.083273</td>\n      <td>0.134199</td>\n      <td>...</td>\n      <td>0.131331</td>\n      <td>0.087306</td>\n      <td>0.084431</td>\n      <td>0.252501</td>\n      <td>0.290441</td>\n      <td>0.224253</td>\n      <td>0.141783</td>\n      <td>0.035913</td>\n      <td>0.080509</td>\n      <td>0.131457</td>\n    </tr>\n    <tr>\n      <th>3</th>\n      <td>-0.001074</td>\n      <td>0.093823</td>\n      <td>1.000000</td>\n      <td>0.281502</td>\n      <td>-0.015372</td>\n      <td>0.086019</td>\n      <td>-0.006997</td>\n      <td>-0.012480</td>\n      <td>-0.043644</td>\n      <td>0.088017</td>\n      <td>...</td>\n      <td>0.040714</td>\n      <td>-0.044089</td>\n      <td>0.110521</td>\n      <td>0.201226</td>\n      <td>0.138870</td>\n      <td>0.127157</td>\n      <td>-0.104538</td>\n      <td>-0.000035</td>\n      <td>0.001178</td>\n      <td>0.016536</td>\n    </tr>\n    <tr>\n      <th>4</th>\n      <td>0.004636</td>\n      <td>0.149475</td>\n      <td>0.281502</td>\n      <td>1.000000</td>\n      <td>0.023080</td>\n      <td>0.051967</td>\n      <td>-0.006703</td>\n      <td>0.037243</td>\n      <td>0.008647</td>\n      <td>0.054529</td>\n      <td>...</td>\n      <td>0.019619</td>\n      <td>0.022974</td>\n      <td>0.149917</td>\n      <td>0.138742</td>\n      <td>0.147264</td>\n      <td>0.163868</td>\n      <td>-0.026823</td>\n      <td>-0.003309</td>\n      <td>-0.001956</td>\n      <td>0.021134</td>\n    </tr>\n    <tr>\n      <th>5</th>\n      <td>-0.008629</td>\n      <td>0.125682</td>\n      <td>-0.015372</td>\n      <td>0.023080</td>\n      <td>1.000000</td>\n      <td>0.102048</td>\n      <td>0.191285</td>\n      <td>0.282524</td>\n      <td>0.185378</td>\n      <td>0.254675</td>\n      <td>...</td>\n      <td>0.123302</td>\n      <td>0.096240</td>\n      <td>0.018173</td>\n      <td>0.135603</td>\n      <td>0.153964</td>\n      <td>0.167625</td>\n      <td>0.189669</td>\n      <td>0.264584</td>\n      <td>0.251744</td>\n      <td>0.263324</td>\n    </tr>\n  </tbody>\n</table>\n<p>5 rows × 75 columns</p>\n</div>"
     },
     "execution_count": 11,
     "metadata": {},
     "output_type": "execute_result"
    }
   ],
   "source": [
    "import pandas as pd\n",
    "\n",
    "user_ratings_transposed = user_ratings_pivot.T\n",
    "\n",
    "user_corr_matrix = user_ratings_transposed.corr(method='pearson')\n",
    "\n",
    "user_corr_matrix_df = pd.DataFrame(user_corr_matrix, columns=user_ratings_transposed.columns,\n",
    "                                   index=user_ratings_transposed.columns)\n",
    "\n",
    "user_corr_matrix_df.head()"
   ],
   "metadata": {
    "collapsed": false,
    "ExecuteTime": {
     "end_time": "2024-01-24T22:21:42.507477Z",
     "start_time": "2024-01-24T22:21:42.377159200Z"
    }
   }
  },
  {
   "cell_type": "markdown",
   "source": [
    "## Calculating Pearson correlation coefficient"
   ],
   "metadata": {
    "collapsed": false
   }
  },
  {
   "cell_type": "code",
   "execution_count": 38,
   "outputs": [
    {
     "data": {
      "text/plain": "movieId  1       2       3       5       6       7       9       10      \\\nuserId                                                                    \n1           NaN     NaN     NaN     NaN     NaN     NaN     NaN     NaN   \n2           3.5     NaN     NaN     NaN     NaN     NaN     NaN     NaN   \n3           4.0     NaN     NaN     NaN     NaN     NaN     NaN     NaN   \n4           3.0     NaN     NaN     NaN     NaN     NaN     NaN     NaN   \n5           4.0     NaN     NaN     NaN     NaN     NaN     NaN     NaN   \n\nmovieId  11      14      ...  182715  182823  187541  187593  189333  195159  \\\nuserId                   ...                                                   \n1           NaN     NaN  ...     NaN     NaN     NaN     NaN     NaN     NaN   \n2           NaN     NaN  ...     NaN     NaN     NaN     NaN     NaN     NaN   \n3           NaN     NaN  ...     NaN     3.0     3.5     4.5     NaN     NaN   \n4           NaN     NaN  ...     4.5     NaN     3.5     3.5     4.0     5.0   \n5           NaN     NaN  ...     NaN     NaN     NaN     NaN     NaN     NaN   \n\nmovieId  200818  200838  203375  203519  \nuserId                                   \n1           NaN     NaN     NaN     NaN  \n2           NaN     NaN     NaN     NaN  \n3           NaN     NaN     NaN     NaN  \n4           5.0     3.0     4.5     2.5  \n5           NaN     NaN     NaN     NaN  \n\n[5 rows x 3287 columns]",
      "text/html": "<div>\n<style scoped>\n    .dataframe tbody tr th:only-of-type {\n        vertical-align: middle;\n    }\n\n    .dataframe tbody tr th {\n        vertical-align: top;\n    }\n\n    .dataframe thead th {\n        text-align: right;\n    }\n</style>\n<table border=\"1\" class=\"dataframe\">\n  <thead>\n    <tr style=\"text-align: right;\">\n      <th>movieId</th>\n      <th>1</th>\n      <th>2</th>\n      <th>3</th>\n      <th>5</th>\n      <th>6</th>\n      <th>7</th>\n      <th>9</th>\n      <th>10</th>\n      <th>11</th>\n      <th>14</th>\n      <th>...</th>\n      <th>182715</th>\n      <th>182823</th>\n      <th>187541</th>\n      <th>187593</th>\n      <th>189333</th>\n      <th>195159</th>\n      <th>200818</th>\n      <th>200838</th>\n      <th>203375</th>\n      <th>203519</th>\n    </tr>\n    <tr>\n      <th>userId</th>\n      <th></th>\n      <th></th>\n      <th></th>\n      <th></th>\n      <th></th>\n      <th></th>\n      <th></th>\n      <th></th>\n      <th></th>\n      <th></th>\n      <th></th>\n      <th></th>\n      <th></th>\n      <th></th>\n      <th></th>\n      <th></th>\n      <th></th>\n      <th></th>\n      <th></th>\n      <th></th>\n      <th></th>\n    </tr>\n  </thead>\n  <tbody>\n    <tr>\n      <th>1</th>\n      <td>NaN</td>\n      <td>NaN</td>\n      <td>NaN</td>\n      <td>NaN</td>\n      <td>NaN</td>\n      <td>NaN</td>\n      <td>NaN</td>\n      <td>NaN</td>\n      <td>NaN</td>\n      <td>NaN</td>\n      <td>...</td>\n      <td>NaN</td>\n      <td>NaN</td>\n      <td>NaN</td>\n      <td>NaN</td>\n      <td>NaN</td>\n      <td>NaN</td>\n      <td>NaN</td>\n      <td>NaN</td>\n      <td>NaN</td>\n      <td>NaN</td>\n    </tr>\n    <tr>\n      <th>2</th>\n      <td>3.5</td>\n      <td>NaN</td>\n      <td>NaN</td>\n      <td>NaN</td>\n      <td>NaN</td>\n      <td>NaN</td>\n      <td>NaN</td>\n      <td>NaN</td>\n      <td>NaN</td>\n      <td>NaN</td>\n      <td>...</td>\n      <td>NaN</td>\n      <td>NaN</td>\n      <td>NaN</td>\n      <td>NaN</td>\n      <td>NaN</td>\n      <td>NaN</td>\n      <td>NaN</td>\n      <td>NaN</td>\n      <td>NaN</td>\n      <td>NaN</td>\n    </tr>\n    <tr>\n      <th>3</th>\n      <td>4.0</td>\n      <td>NaN</td>\n      <td>NaN</td>\n      <td>NaN</td>\n      <td>NaN</td>\n      <td>NaN</td>\n      <td>NaN</td>\n      <td>NaN</td>\n      <td>NaN</td>\n      <td>NaN</td>\n      <td>...</td>\n      <td>NaN</td>\n      <td>3.0</td>\n      <td>3.5</td>\n      <td>4.5</td>\n      <td>NaN</td>\n      <td>NaN</td>\n      <td>NaN</td>\n      <td>NaN</td>\n      <td>NaN</td>\n      <td>NaN</td>\n    </tr>\n    <tr>\n      <th>4</th>\n      <td>3.0</td>\n      <td>NaN</td>\n      <td>NaN</td>\n      <td>NaN</td>\n      <td>NaN</td>\n      <td>NaN</td>\n      <td>NaN</td>\n      <td>NaN</td>\n      <td>NaN</td>\n      <td>NaN</td>\n      <td>...</td>\n      <td>4.5</td>\n      <td>NaN</td>\n      <td>3.5</td>\n      <td>3.5</td>\n      <td>4.0</td>\n      <td>5.0</td>\n      <td>5.0</td>\n      <td>3.0</td>\n      <td>4.5</td>\n      <td>2.5</td>\n    </tr>\n    <tr>\n      <th>5</th>\n      <td>4.0</td>\n      <td>NaN</td>\n      <td>NaN</td>\n      <td>NaN</td>\n      <td>NaN</td>\n      <td>NaN</td>\n      <td>NaN</td>\n      <td>NaN</td>\n      <td>NaN</td>\n      <td>NaN</td>\n      <td>...</td>\n      <td>NaN</td>\n      <td>NaN</td>\n      <td>NaN</td>\n      <td>NaN</td>\n      <td>NaN</td>\n      <td>NaN</td>\n      <td>NaN</td>\n      <td>NaN</td>\n      <td>NaN</td>\n      <td>NaN</td>\n    </tr>\n  </tbody>\n</table>\n<p>5 rows × 3287 columns</p>\n</div>"
     },
     "execution_count": 38,
     "metadata": {},
     "output_type": "execute_result"
    }
   ],
   "source": [
    "ratings_df = small_movies_ratings_df.reset_index(drop=True)\n",
    "\n",
    "user_ratings_pivot_NA = ratings_df.pivot(index='userId', columns='movieId', values='rating')\n",
    "\n",
    "user_ratings_pivot_NA.head()"
   ],
   "metadata": {
    "collapsed": false,
    "ExecuteTime": {
     "end_time": "2024-01-24T23:03:04.116987600Z",
     "start_time": "2024-01-24T23:03:04.089347100Z"
    }
   }
  },
  {
   "cell_type": "code",
   "execution_count": 13,
   "outputs": [],
   "source": [
    "import collections\n",
    "import math\n",
    "\n",
    "def item_indice(user_u):\n",
    "    numbers = []\n",
    "    for i in range(len(user_ratings_pivot_NA)):\n",
    "        if user_ratings_pivot_NA[user_u]:\n",
    "            numbers.append(user_ratings_pivot_NA[user_u][i])\n",
    "    return numbers\n",
    "\n",
    "def mean_rating(user_u):\n",
    "    sum = 0\n",
    "    for k in range(len(item_indice(user_u))):\n",
    "        sum += user_ratings_pivot_NA[user_u][k]\n",
    "    return sum / len(item_indice(user_u))\n",
    "\n",
    "def pearson(user_u, user_v):\n",
    "    num = denum1 = denum2 = 0\n",
    "    item_indice1 = item_indice(user_u)\n",
    "    item_indice2 = item_indice(user_v)\n",
    "\n",
    "    result = collections.Counter(item_indice1) & collections.Counter(item_indice2)\n",
    "\n",
    "    intersected_list = list(result.elements())\n",
    "\n",
    "    for k in intersected_list:\n",
    "        num += (user_ratings_pivot_NA[user_u][k] - mean_rating(user_u)) * (\n",
    "                user_ratings_pivot_NA[user_u][k] - mean_rating(user_v))\n",
    "\n",
    "        denum1 += (user_ratings_pivot_NA[user_u][k] - mean_rating(user_u)) ** 2\n",
    "        denum2 += (user_ratings_pivot_NA[user_u][k] - mean_rating(user_v)) ** 2\n",
    "\n",
    "    denum = math.sqrt(denum1) * math.sqrt(denum2)\n",
    "\n",
    "    return num / denum\n"
   ],
   "metadata": {
    "collapsed": false,
    "ExecuteTime": {
     "start_time": "2024-01-24T22:21:42.436473300Z"
    }
   }
  },
  {
   "cell_type": "markdown",
   "source": [
    "## Measuring Sparsity"
   ],
   "metadata": {
    "collapsed": false
   }
  },
  {
   "cell_type": "code",
   "execution_count": 33,
   "outputs": [
    {
     "name": "stdout",
     "output_type": "stream",
     "text": [
      "Number of Empty Rows: 236525 \n",
      "Total Number of Rows:246525 \n",
      "Sparsity 0.9594361626609877\n"
     ]
    }
   ],
   "source": [
    "ratings_df = small_movies_ratings_df.reset_index(drop=True)\n",
    "\n",
    "user_ratings_pivot_NA = ratings_df.pivot(index='userId', columns='movieId', values='rating')\n",
    "\n",
    "number_of_empty = user_ratings_pivot_NA.isnull().values.sum()\n",
    "total_number = user_ratings_pivot_NA.size\n",
    "sparsity = number_of_empty / total_number\n",
    "print(''\n",
    "      'Number of Empty Rows: {0} \\n'\n",
    "      'Total Number of Rows:{1} \\n'\n",
    "      'Sparsity {2}'.format(number_of_empty, total_number, sparsity))"
   ],
   "metadata": {
    "collapsed": false,
    "ExecuteTime": {
     "end_time": "2024-01-24T22:54:02.215918400Z",
     "start_time": "2024-01-24T22:54:02.184062100Z"
    }
   }
  },
  {
   "cell_type": "code",
   "execution_count": 34,
   "outputs": [],
   "source": [
    "from sklearn.decomposition import TruncatedSVD\n",
    "\n",
    "# Step 2: Compute similarity matrix S = Rf.T @ Rf\n",
    "similarity_matrix = filled_user_item_matrix.T.dot(filled_user_item_matrix)\n",
    "\n",
    "# Step 3: Perform eigenvalue decomposition\n",
    "d = 10\n",
    "svd = TruncatedSVD(n_components=d)\n",
    "svd.fit(similarity_matrix)\n",
    "eigenvalues = svd.singular_values_\n",
    "eigenvectors = svd.components_.T\n",
    "\n",
    "# Step 4: Reduce dimensionality of Rf\n",
    "reduced_representation = filled_user_item_matrix.dot(eigenvectors)"
   ],
   "metadata": {
    "collapsed": false,
    "ExecuteTime": {
     "end_time": "2024-01-24T22:54:44.008537600Z",
     "start_time": "2024-01-24T22:54:43.481903600Z"
    }
   }
  },
  {
   "cell_type": "code",
   "execution_count": 35,
   "metadata": {
    "collapsed": false,
    "ExecuteTime": {
     "end_time": "2024-01-24T22:54:46.482973600Z",
     "start_time": "2024-01-24T22:54:46.462990500Z"
    }
   },
   "outputs": [
    {
     "data": {
      "text/plain": "                0          1          2          3          4          5  \\\nuserId                                                                     \n1        1.386358   1.849875   2.423786   1.401454   1.886196   0.986466   \n2       22.077765   3.409157  -5.284337   7.613612   1.903512  -2.066729   \n3       20.392200  63.164679 -16.395891 -41.527411 -21.958367 -11.701939   \n4       13.124933  20.096588  -7.559784   1.364924  -6.241166  -2.260734   \n5       12.834660  -5.120109  -0.959321   1.007137   3.013941  -3.048558   \n\n               6         7         8         9  \nuserId                                          \n1       1.680110  2.065062  2.650947  1.016628  \n2      -8.815148  5.423477 -1.957919 -3.073296  \n3      -2.363121 -7.493230  6.014434 -9.810948  \n4      -4.739777  0.845177 -7.135834 -1.593026  \n5      -4.365976 -6.734283 -1.896301 -1.287840  ",
      "text/html": "<div>\n<style scoped>\n    .dataframe tbody tr th:only-of-type {\n        vertical-align: middle;\n    }\n\n    .dataframe tbody tr th {\n        vertical-align: top;\n    }\n\n    .dataframe thead th {\n        text-align: right;\n    }\n</style>\n<table border=\"1\" class=\"dataframe\">\n  <thead>\n    <tr style=\"text-align: right;\">\n      <th></th>\n      <th>0</th>\n      <th>1</th>\n      <th>2</th>\n      <th>3</th>\n      <th>4</th>\n      <th>5</th>\n      <th>6</th>\n      <th>7</th>\n      <th>8</th>\n      <th>9</th>\n    </tr>\n    <tr>\n      <th>userId</th>\n      <th></th>\n      <th></th>\n      <th></th>\n      <th></th>\n      <th></th>\n      <th></th>\n      <th></th>\n      <th></th>\n      <th></th>\n      <th></th>\n    </tr>\n  </thead>\n  <tbody>\n    <tr>\n      <th>1</th>\n      <td>1.386358</td>\n      <td>1.849875</td>\n      <td>2.423786</td>\n      <td>1.401454</td>\n      <td>1.886196</td>\n      <td>0.986466</td>\n      <td>1.680110</td>\n      <td>2.065062</td>\n      <td>2.650947</td>\n      <td>1.016628</td>\n    </tr>\n    <tr>\n      <th>2</th>\n      <td>22.077765</td>\n      <td>3.409157</td>\n      <td>-5.284337</td>\n      <td>7.613612</td>\n      <td>1.903512</td>\n      <td>-2.066729</td>\n      <td>-8.815148</td>\n      <td>5.423477</td>\n      <td>-1.957919</td>\n      <td>-3.073296</td>\n    </tr>\n    <tr>\n      <th>3</th>\n      <td>20.392200</td>\n      <td>63.164679</td>\n      <td>-16.395891</td>\n      <td>-41.527411</td>\n      <td>-21.958367</td>\n      <td>-11.701939</td>\n      <td>-2.363121</td>\n      <td>-7.493230</td>\n      <td>6.014434</td>\n      <td>-9.810948</td>\n    </tr>\n    <tr>\n      <th>4</th>\n      <td>13.124933</td>\n      <td>20.096588</td>\n      <td>-7.559784</td>\n      <td>1.364924</td>\n      <td>-6.241166</td>\n      <td>-2.260734</td>\n      <td>-4.739777</td>\n      <td>0.845177</td>\n      <td>-7.135834</td>\n      <td>-1.593026</td>\n    </tr>\n    <tr>\n      <th>5</th>\n      <td>12.834660</td>\n      <td>-5.120109</td>\n      <td>-0.959321</td>\n      <td>1.007137</td>\n      <td>3.013941</td>\n      <td>-3.048558</td>\n      <td>-4.365976</td>\n      <td>-6.734283</td>\n      <td>-1.896301</td>\n      <td>-1.287840</td>\n    </tr>\n  </tbody>\n</table>\n</div>"
     },
     "execution_count": 35,
     "metadata": {},
     "output_type": "execute_result"
    }
   ],
   "source": []
  },
  {
   "cell_type": "code",
   "execution_count": null,
   "outputs": [],
   "source": [],
   "metadata": {
    "collapsed": false
   }
  }
 ],
 "metadata": {
  "kaggle": {
   "accelerator": "none",
   "dataSources": [
    {
     "datasetId": 1586809,
     "sourceId": 2610766,
     "sourceType": "datasetVersion"
    }
   ],
   "dockerImageVersionId": 30627,
   "isGpuEnabled": false,
   "isInternetEnabled": false,
   "language": "python",
   "sourceType": "notebook"
  },
  "kernelspec": {
   "display_name": "Python 3 (ipykernel)",
   "language": "python",
   "name": "python3"
  },
  "language_info": {
   "codemirror_mode": {
    "name": "ipython",
    "version": 3
   },
   "file_extension": ".py",
   "mimetype": "text/x-python",
   "name": "python",
   "nbconvert_exporter": "python",
   "pygments_lexer": "ipython3",
   "version": "3.9.0"
  }
 },
 "nbformat": 4,
 "nbformat_minor": 4
}
