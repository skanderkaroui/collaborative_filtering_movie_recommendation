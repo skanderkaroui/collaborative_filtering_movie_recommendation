{
 "cells": [
  {
   "cell_type": "code",
   "execution_count": 1,
   "metadata": {
    "ExecuteTime": {
     "end_time": "2024-01-21T22:03:21.232032Z",
     "start_time": "2024-01-21T22:03:21.216540Z"
    },
    "_cell_guid": "b1076dfc-b9ad-4769-8c92-a6c4dae69d19",
    "_uuid": "8f2839f25d086af736a60e9eeb907d3b93b6e0e5"
   },
   "outputs": [],
   "source": [
    "import numpy as np\n",
    "import pandas as pd"
   ]
  },
  {
   "cell_type": "code",
   "execution_count": 2,
   "metadata": {
    "ExecuteTime": {
     "end_time": "2024-01-21T22:03:28.056808300Z",
     "start_time": "2024-01-21T22:03:22.526881800Z"
    }
   },
   "outputs": [],
   "source": [
    "movie= pd.read_csv('ml-25m/movies.csv')\n",
    "ratings = pd.read_csv('ml-25m/ratings.csv')"
   ]
  },
  {
   "cell_type": "code",
   "execution_count": 3,
   "metadata": {
    "ExecuteTime": {
     "end_time": "2024-01-21T21:35:39.584015900Z",
     "start_time": "2024-01-21T21:35:39.562534700Z"
    }
   },
   "outputs": [
    {
     "data": {
      "text/html": [
       "<div>\n",
       "<style scoped>\n",
       "    .dataframe tbody tr th:only-of-type {\n",
       "        vertical-align: middle;\n",
       "    }\n",
       "\n",
       "    .dataframe tbody tr th {\n",
       "        vertical-align: top;\n",
       "    }\n",
       "\n",
       "    .dataframe thead th {\n",
       "        text-align: right;\n",
       "    }\n",
       "</style>\n",
       "<table border=\"1\" class=\"dataframe\">\n",
       "  <thead>\n",
       "    <tr style=\"text-align: right;\">\n",
       "      <th></th>\n",
       "      <th>movieId</th>\n",
       "      <th>title</th>\n",
       "      <th>genres</th>\n",
       "    </tr>\n",
       "  </thead>\n",
       "  <tbody>\n",
       "    <tr>\n",
       "      <th>0</th>\n",
       "      <td>1</td>\n",
       "      <td>Toy Story (1995)</td>\n",
       "      <td>Adventure|Animation|Children|Comedy|Fantasy</td>\n",
       "    </tr>\n",
       "    <tr>\n",
       "      <th>1</th>\n",
       "      <td>2</td>\n",
       "      <td>Jumanji (1995)</td>\n",
       "      <td>Adventure|Children|Fantasy</td>\n",
       "    </tr>\n",
       "    <tr>\n",
       "      <th>2</th>\n",
       "      <td>3</td>\n",
       "      <td>Grumpier Old Men (1995)</td>\n",
       "      <td>Comedy|Romance</td>\n",
       "    </tr>\n",
       "    <tr>\n",
       "      <th>3</th>\n",
       "      <td>4</td>\n",
       "      <td>Waiting to Exhale (1995)</td>\n",
       "      <td>Comedy|Drama|Romance</td>\n",
       "    </tr>\n",
       "    <tr>\n",
       "      <th>4</th>\n",
       "      <td>5</td>\n",
       "      <td>Father of the Bride Part II (1995)</td>\n",
       "      <td>Comedy</td>\n",
       "    </tr>\n",
       "  </tbody>\n",
       "</table>\n",
       "</div>"
      ],
      "text/plain": [
       "   movieId                               title  \\\n",
       "0        1                    Toy Story (1995)   \n",
       "1        2                      Jumanji (1995)   \n",
       "2        3             Grumpier Old Men (1995)   \n",
       "3        4            Waiting to Exhale (1995)   \n",
       "4        5  Father of the Bride Part II (1995)   \n",
       "\n",
       "                                        genres  \n",
       "0  Adventure|Animation|Children|Comedy|Fantasy  \n",
       "1                   Adventure|Children|Fantasy  \n",
       "2                               Comedy|Romance  \n",
       "3                         Comedy|Drama|Romance  \n",
       "4                                       Comedy  "
      ]
     },
     "execution_count": 3,
     "metadata": {},
     "output_type": "execute_result"
    }
   ],
   "source": [
    "movie.head()"
   ]
  },
  {
   "cell_type": "code",
   "execution_count": 4,
   "metadata": {
    "ExecuteTime": {
     "end_time": "2024-01-21T21:35:41.170795600Z",
     "start_time": "2024-01-21T21:35:41.152891100Z"
    }
   },
   "outputs": [
    {
     "data": {
      "text/html": [
       "<div>\n",
       "<style scoped>\n",
       "    .dataframe tbody tr th:only-of-type {\n",
       "        vertical-align: middle;\n",
       "    }\n",
       "\n",
       "    .dataframe tbody tr th {\n",
       "        vertical-align: top;\n",
       "    }\n",
       "\n",
       "    .dataframe thead th {\n",
       "        text-align: right;\n",
       "    }\n",
       "</style>\n",
       "<table border=\"1\" class=\"dataframe\">\n",
       "  <thead>\n",
       "    <tr style=\"text-align: right;\">\n",
       "      <th></th>\n",
       "      <th>userId</th>\n",
       "      <th>movieId</th>\n",
       "      <th>rating</th>\n",
       "      <th>timestamp</th>\n",
       "    </tr>\n",
       "  </thead>\n",
       "  <tbody>\n",
       "    <tr>\n",
       "      <th>0</th>\n",
       "      <td>1</td>\n",
       "      <td>296</td>\n",
       "      <td>5.0</td>\n",
       "      <td>1147880044</td>\n",
       "    </tr>\n",
       "    <tr>\n",
       "      <th>1</th>\n",
       "      <td>1</td>\n",
       "      <td>306</td>\n",
       "      <td>3.5</td>\n",
       "      <td>1147868817</td>\n",
       "    </tr>\n",
       "    <tr>\n",
       "      <th>2</th>\n",
       "      <td>1</td>\n",
       "      <td>307</td>\n",
       "      <td>5.0</td>\n",
       "      <td>1147868828</td>\n",
       "    </tr>\n",
       "    <tr>\n",
       "      <th>3</th>\n",
       "      <td>1</td>\n",
       "      <td>665</td>\n",
       "      <td>5.0</td>\n",
       "      <td>1147878820</td>\n",
       "    </tr>\n",
       "    <tr>\n",
       "      <th>4</th>\n",
       "      <td>1</td>\n",
       "      <td>899</td>\n",
       "      <td>3.5</td>\n",
       "      <td>1147868510</td>\n",
       "    </tr>\n",
       "  </tbody>\n",
       "</table>\n",
       "</div>"
      ],
      "text/plain": [
       "   userId  movieId  rating   timestamp\n",
       "0       1      296     5.0  1147880044\n",
       "1       1      306     3.5  1147868817\n",
       "2       1      307     5.0  1147868828\n",
       "3       1      665     5.0  1147878820\n",
       "4       1      899     3.5  1147868510"
      ]
     },
     "execution_count": 4,
     "metadata": {},
     "output_type": "execute_result"
    }
   ],
   "source": [
    "ratings.head()"
   ]
  },
  {
   "cell_type": "code",
   "execution_count": 5,
   "metadata": {
    "ExecuteTime": {
     "end_time": "2024-01-21T21:35:42.667731600Z",
     "start_time": "2024-01-21T21:35:42.519563600Z"
    }
   },
   "outputs": [],
   "source": [
    "ratings = ratings.drop('timestamp',axis=1)"
   ]
  },
  {
   "cell_type": "code",
   "execution_count": 9,
   "metadata": {
    "ExecuteTime": {
     "end_time": "2024-01-21T21:35:43.848331700Z",
     "start_time": "2024-01-21T21:35:43.840260200Z"
    },
    "execution": {
     "iopub.execute_input": "2023-12-22T07:41:48.111700Z",
     "iopub.status.busy": "2023-12-22T07:41:48.111394Z",
     "iopub.status.idle": "2023-12-22T07:41:48.121105Z",
     "shell.execute_reply": "2023-12-22T07:41:48.119990Z",
     "shell.execute_reply.started": "2023-12-22T07:41:48.111673Z"
    }
   },
   "outputs": [
    {
     "data": {
      "text/html": [
       "<div>\n",
       "<style scoped>\n",
       "    .dataframe tbody tr th:only-of-type {\n",
       "        vertical-align: middle;\n",
       "    }\n",
       "\n",
       "    .dataframe tbody tr th {\n",
       "        vertical-align: top;\n",
       "    }\n",
       "\n",
       "    .dataframe thead th {\n",
       "        text-align: right;\n",
       "    }\n",
       "</style>\n",
       "<table border=\"1\" class=\"dataframe\">\n",
       "  <thead>\n",
       "    <tr style=\"text-align: right;\">\n",
       "      <th></th>\n",
       "      <th>userId</th>\n",
       "      <th>movieId</th>\n",
       "      <th>rating</th>\n",
       "    </tr>\n",
       "  </thead>\n",
       "  <tbody>\n",
       "    <tr>\n",
       "      <th>0</th>\n",
       "      <td>1</td>\n",
       "      <td>296</td>\n",
       "      <td>5.0</td>\n",
       "    </tr>\n",
       "    <tr>\n",
       "      <th>1</th>\n",
       "      <td>1</td>\n",
       "      <td>306</td>\n",
       "      <td>3.5</td>\n",
       "    </tr>\n",
       "    <tr>\n",
       "      <th>2</th>\n",
       "      <td>1</td>\n",
       "      <td>307</td>\n",
       "      <td>5.0</td>\n",
       "    </tr>\n",
       "    <tr>\n",
       "      <th>3</th>\n",
       "      <td>1</td>\n",
       "      <td>665</td>\n",
       "      <td>5.0</td>\n",
       "    </tr>\n",
       "    <tr>\n",
       "      <th>4</th>\n",
       "      <td>1</td>\n",
       "      <td>899</td>\n",
       "      <td>3.5</td>\n",
       "    </tr>\n",
       "  </tbody>\n",
       "</table>\n",
       "</div>"
      ],
      "text/plain": [
       "   userId  movieId  rating\n",
       "0       1      296     5.0\n",
       "1       1      306     3.5\n",
       "2       1      307     5.0\n",
       "3       1      665     5.0\n",
       "4       1      899     3.5"
      ]
     },
     "execution_count": 9,
     "metadata": {},
     "output_type": "execute_result"
    }
   ],
   "source": [
    "ratings.head()"
   ]
  },
  {
   "cell_type": "code",
   "execution_count": 19,
   "metadata": {
    "execution": {
     "iopub.execute_input": "2023-12-22T08:15:29.956850Z",
     "iopub.status.busy": "2023-12-22T08:15:29.955906Z",
     "iopub.status.idle": "2023-12-22T08:16:38.623532Z",
     "shell.execute_reply": "2023-12-22T08:16:38.622313Z",
     "shell.execute_reply.started": "2023-12-22T08:15:29.956812Z"
    },
    "ExecuteTime": {
     "end_time": "2024-01-21T23:09:44.293837100Z",
     "start_time": "2024-01-21T23:09:39.109479300Z"
    }
   },
   "outputs": [],
   "source": [
    "import pandas as pd\n",
    "from sklearn.decomposition import TruncatedSVD\n",
    "\n",
    "# Load ratings data from CSV file into a pandas DataFrame\n",
    "ratings_df = pd.read_csv('ml-25m/ratings.csv')\n",
    "small_ratings_df = ratings_df[:10000]\n",
    "\n",
    "# Reset the index to ensure a clean and sequential index\n",
    "ratings_df = small_ratings_df.reset_index(drop=True)\n",
    "\n",
    "# Pivot the ratings data to create the user-item matrix\n",
    "user_item_matrix = small_ratings_df.pivot(index='userId', columns='movieId', values='rating').fillna(0)\n",
    "\n",
    "# Step 1: Fill missing entries with user means\n",
    "user_means = user_item_matrix.mean(axis=1)\n",
    "filled_user_item_matrix = user_item_matrix.sub(user_means, axis=0).fillna(0)\n",
    "\n",
    "# Step 2: Compute similarity matrix S = Rf.T @ Rf\n",
    "similarity_matrix = filled_user_item_matrix.T.dot(filled_user_item_matrix)\n",
    "\n",
    "# Step 3: Perform eigenvalue decomposition\n",
    "d = 10  # Choose the number of dimensions\n",
    "svd = TruncatedSVD(n_components=d)\n",
    "svd.fit(similarity_matrix)\n",
    "eigenvalues = svd.singular_values_\n",
    "eigenvectors = svd.components_.T\n",
    "\n",
    "# Step 4: Reduce dimensionality of Rf\n",
    "reduced_representation = filled_user_item_matrix.dot(eigenvectors)\n"
   ]
  },
  {
   "cell_type": "code",
   "execution_count": 20,
   "metadata": {
    "collapsed": false,
    "ExecuteTime": {
     "end_time": "2024-01-21T23:10:10.638069800Z",
     "start_time": "2024-01-21T23:10:10.606396400Z"
    }
   },
   "outputs": [
    {
     "data": {
      "text/plain": "                0          1          2          3          4          5  \\\nuserId                                                                     \n1        1.386358   1.849875   2.423786   1.401452   1.886193   0.986462   \n2       22.077765   3.409157  -5.284337   7.613621   1.903523  -2.066745   \n3       20.392200  63.164679 -16.395891 -41.527407 -21.958366 -11.701960   \n4       13.124933  20.096588  -7.559784   1.364940  -6.241180  -2.260828   \n5       12.834660  -5.120109  -0.959321   1.007152   3.013938  -3.048615   \n\n               6         7         8         9  \nuserId                                          \n1       1.680169  2.065087  2.650653  1.016376  \n2      -8.815291  5.423296 -1.957602 -3.073975  \n3      -2.363192 -7.493129  6.014720 -9.811367  \n4      -4.740078  0.845615 -7.135728 -1.595804  \n5      -4.366261 -6.733884 -1.895099 -1.289979  ",
      "text/html": "<div>\n<style scoped>\n    .dataframe tbody tr th:only-of-type {\n        vertical-align: middle;\n    }\n\n    .dataframe tbody tr th {\n        vertical-align: top;\n    }\n\n    .dataframe thead th {\n        text-align: right;\n    }\n</style>\n<table border=\"1\" class=\"dataframe\">\n  <thead>\n    <tr style=\"text-align: right;\">\n      <th></th>\n      <th>0</th>\n      <th>1</th>\n      <th>2</th>\n      <th>3</th>\n      <th>4</th>\n      <th>5</th>\n      <th>6</th>\n      <th>7</th>\n      <th>8</th>\n      <th>9</th>\n    </tr>\n    <tr>\n      <th>userId</th>\n      <th></th>\n      <th></th>\n      <th></th>\n      <th></th>\n      <th></th>\n      <th></th>\n      <th></th>\n      <th></th>\n      <th></th>\n      <th></th>\n    </tr>\n  </thead>\n  <tbody>\n    <tr>\n      <th>1</th>\n      <td>1.386358</td>\n      <td>1.849875</td>\n      <td>2.423786</td>\n      <td>1.401452</td>\n      <td>1.886193</td>\n      <td>0.986462</td>\n      <td>1.680169</td>\n      <td>2.065087</td>\n      <td>2.650653</td>\n      <td>1.016376</td>\n    </tr>\n    <tr>\n      <th>2</th>\n      <td>22.077765</td>\n      <td>3.409157</td>\n      <td>-5.284337</td>\n      <td>7.613621</td>\n      <td>1.903523</td>\n      <td>-2.066745</td>\n      <td>-8.815291</td>\n      <td>5.423296</td>\n      <td>-1.957602</td>\n      <td>-3.073975</td>\n    </tr>\n    <tr>\n      <th>3</th>\n      <td>20.392200</td>\n      <td>63.164679</td>\n      <td>-16.395891</td>\n      <td>-41.527407</td>\n      <td>-21.958366</td>\n      <td>-11.701960</td>\n      <td>-2.363192</td>\n      <td>-7.493129</td>\n      <td>6.014720</td>\n      <td>-9.811367</td>\n    </tr>\n    <tr>\n      <th>4</th>\n      <td>13.124933</td>\n      <td>20.096588</td>\n      <td>-7.559784</td>\n      <td>1.364940</td>\n      <td>-6.241180</td>\n      <td>-2.260828</td>\n      <td>-4.740078</td>\n      <td>0.845615</td>\n      <td>-7.135728</td>\n      <td>-1.595804</td>\n    </tr>\n    <tr>\n      <th>5</th>\n      <td>12.834660</td>\n      <td>-5.120109</td>\n      <td>-0.959321</td>\n      <td>1.007152</td>\n      <td>3.013938</td>\n      <td>-3.048615</td>\n      <td>-4.366261</td>\n      <td>-6.733884</td>\n      <td>-1.895099</td>\n      <td>-1.289979</td>\n    </tr>\n  </tbody>\n</table>\n</div>"
     },
     "execution_count": 20,
     "metadata": {},
     "output_type": "execute_result"
    }
   ],
   "source": [
    "reduced_representation.head()"
   ]
  },
  {
   "cell_type": "code",
   "execution_count": null,
   "outputs": [],
   "source": [],
   "metadata": {
    "collapsed": false
   }
  }
 ],
 "metadata": {
  "kaggle": {
   "accelerator": "none",
   "dataSources": [
    {
     "datasetId": 1586809,
     "sourceId": 2610766,
     "sourceType": "datasetVersion"
    }
   ],
   "dockerImageVersionId": 30627,
   "isGpuEnabled": false,
   "isInternetEnabled": false,
   "language": "python",
   "sourceType": "notebook"
  },
  "kernelspec": {
   "display_name": "Python 3 (ipykernel)",
   "language": "python",
   "name": "python3"
  },
  "language_info": {
   "codemirror_mode": {
    "name": "ipython",
    "version": 3
   },
   "file_extension": ".py",
   "mimetype": "text/x-python",
   "name": "python",
   "nbconvert_exporter": "python",
   "pygments_lexer": "ipython3",
   "version": "3.9.0"
  }
 },
 "nbformat": 4,
 "nbformat_minor": 4
}
