{
 "cells": [
  {
   "cell_type": "code",
   "execution_count": 1,
   "metadata": {
    "ExecuteTime": {
     "end_time": "2024-01-21T22:03:21.232032Z",
     "start_time": "2024-01-21T22:03:21.216540Z"
    },
    "_cell_guid": "b1076dfc-b9ad-4769-8c92-a6c4dae69d19",
    "_uuid": "8f2839f25d086af736a60e9eeb907d3b93b6e0e5"
   },
   "outputs": [],
   "source": [
    "import numpy as np\n",
    "import pandas as pd"
   ]
  },
  {
   "cell_type": "code",
   "execution_count": 2,
   "metadata": {
    "ExecuteTime": {
     "end_time": "2024-01-21T22:03:28.056808300Z",
     "start_time": "2024-01-21T22:03:22.526881800Z"
    }
   },
   "outputs": [],
   "source": [
    "movie= pd.read_csv('ml-25m/movies.csv')\n",
    "ratings = pd.read_csv('ml-25m/ratings.csv')"
   ]
  },
  {
   "cell_type": "code",
   "execution_count": 3,
   "metadata": {
    "ExecuteTime": {
     "end_time": "2024-01-21T21:35:39.584015900Z",
     "start_time": "2024-01-21T21:35:39.562534700Z"
    }
   },
   "outputs": [
    {
     "data": {
      "text/html": [
       "<div>\n",
       "<style scoped>\n",
       "    .dataframe tbody tr th:only-of-type {\n",
       "        vertical-align: middle;\n",
       "    }\n",
       "\n",
       "    .dataframe tbody tr th {\n",
       "        vertical-align: top;\n",
       "    }\n",
       "\n",
       "    .dataframe thead th {\n",
       "        text-align: right;\n",
       "    }\n",
       "</style>\n",
       "<table border=\"1\" class=\"dataframe\">\n",
       "  <thead>\n",
       "    <tr style=\"text-align: right;\">\n",
       "      <th></th>\n",
       "      <th>movieId</th>\n",
       "      <th>title</th>\n",
       "      <th>genres</th>\n",
       "    </tr>\n",
       "  </thead>\n",
       "  <tbody>\n",
       "    <tr>\n",
       "      <th>0</th>\n",
       "      <td>1</td>\n",
       "      <td>Toy Story (1995)</td>\n",
       "      <td>Adventure|Animation|Children|Comedy|Fantasy</td>\n",
       "    </tr>\n",
       "    <tr>\n",
       "      <th>1</th>\n",
       "      <td>2</td>\n",
       "      <td>Jumanji (1995)</td>\n",
       "      <td>Adventure|Children|Fantasy</td>\n",
       "    </tr>\n",
       "    <tr>\n",
       "      <th>2</th>\n",
       "      <td>3</td>\n",
       "      <td>Grumpier Old Men (1995)</td>\n",
       "      <td>Comedy|Romance</td>\n",
       "    </tr>\n",
       "    <tr>\n",
       "      <th>3</th>\n",
       "      <td>4</td>\n",
       "      <td>Waiting to Exhale (1995)</td>\n",
       "      <td>Comedy|Drama|Romance</td>\n",
       "    </tr>\n",
       "    <tr>\n",
       "      <th>4</th>\n",
       "      <td>5</td>\n",
       "      <td>Father of the Bride Part II (1995)</td>\n",
       "      <td>Comedy</td>\n",
       "    </tr>\n",
       "  </tbody>\n",
       "</table>\n",
       "</div>"
      ],
      "text/plain": [
       "   movieId                               title  \\\n",
       "0        1                    Toy Story (1995)   \n",
       "1        2                      Jumanji (1995)   \n",
       "2        3             Grumpier Old Men (1995)   \n",
       "3        4            Waiting to Exhale (1995)   \n",
       "4        5  Father of the Bride Part II (1995)   \n",
       "\n",
       "                                        genres  \n",
       "0  Adventure|Animation|Children|Comedy|Fantasy  \n",
       "1                   Adventure|Children|Fantasy  \n",
       "2                               Comedy|Romance  \n",
       "3                         Comedy|Drama|Romance  \n",
       "4                                       Comedy  "
      ]
     },
     "execution_count": 3,
     "metadata": {},
     "output_type": "execute_result"
    }
   ],
   "source": [
    "movie.head()"
   ]
  },
  {
   "cell_type": "code",
   "execution_count": 4,
   "metadata": {
    "ExecuteTime": {
     "end_time": "2024-01-21T21:35:41.170795600Z",
     "start_time": "2024-01-21T21:35:41.152891100Z"
    }
   },
   "outputs": [
    {
     "data": {
      "text/html": [
       "<div>\n",
       "<style scoped>\n",
       "    .dataframe tbody tr th:only-of-type {\n",
       "        vertical-align: middle;\n",
       "    }\n",
       "\n",
       "    .dataframe tbody tr th {\n",
       "        vertical-align: top;\n",
       "    }\n",
       "\n",
       "    .dataframe thead th {\n",
       "        text-align: right;\n",
       "    }\n",
       "</style>\n",
       "<table border=\"1\" class=\"dataframe\">\n",
       "  <thead>\n",
       "    <tr style=\"text-align: right;\">\n",
       "      <th></th>\n",
       "      <th>userId</th>\n",
       "      <th>movieId</th>\n",
       "      <th>rating</th>\n",
       "      <th>timestamp</th>\n",
       "    </tr>\n",
       "  </thead>\n",
       "  <tbody>\n",
       "    <tr>\n",
       "      <th>0</th>\n",
       "      <td>1</td>\n",
       "      <td>296</td>\n",
       "      <td>5.0</td>\n",
       "      <td>1147880044</td>\n",
       "    </tr>\n",
       "    <tr>\n",
       "      <th>1</th>\n",
       "      <td>1</td>\n",
       "      <td>306</td>\n",
       "      <td>3.5</td>\n",
       "      <td>1147868817</td>\n",
       "    </tr>\n",
       "    <tr>\n",
       "      <th>2</th>\n",
       "      <td>1</td>\n",
       "      <td>307</td>\n",
       "      <td>5.0</td>\n",
       "      <td>1147868828</td>\n",
       "    </tr>\n",
       "    <tr>\n",
       "      <th>3</th>\n",
       "      <td>1</td>\n",
       "      <td>665</td>\n",
       "      <td>5.0</td>\n",
       "      <td>1147878820</td>\n",
       "    </tr>\n",
       "    <tr>\n",
       "      <th>4</th>\n",
       "      <td>1</td>\n",
       "      <td>899</td>\n",
       "      <td>3.5</td>\n",
       "      <td>1147868510</td>\n",
       "    </tr>\n",
       "  </tbody>\n",
       "</table>\n",
       "</div>"
      ],
      "text/plain": [
       "   userId  movieId  rating   timestamp\n",
       "0       1      296     5.0  1147880044\n",
       "1       1      306     3.5  1147868817\n",
       "2       1      307     5.0  1147868828\n",
       "3       1      665     5.0  1147878820\n",
       "4       1      899     3.5  1147868510"
      ]
     },
     "execution_count": 4,
     "metadata": {},
     "output_type": "execute_result"
    }
   ],
   "source": [
    "ratings.head()"
   ]
  },
  {
   "cell_type": "code",
   "execution_count": 5,
   "metadata": {
    "ExecuteTime": {
     "end_time": "2024-01-21T21:35:42.667731600Z",
     "start_time": "2024-01-21T21:35:42.519563600Z"
    }
   },
   "outputs": [],
   "source": [
    "ratings = ratings.drop('timestamp',axis=1)"
   ]
  },
  {
   "cell_type": "code",
   "execution_count": 9,
   "metadata": {
    "ExecuteTime": {
     "end_time": "2024-01-21T21:35:43.848331700Z",
     "start_time": "2024-01-21T21:35:43.840260200Z"
    },
    "execution": {
     "iopub.execute_input": "2023-12-22T07:41:48.111700Z",
     "iopub.status.busy": "2023-12-22T07:41:48.111394Z",
     "iopub.status.idle": "2023-12-22T07:41:48.121105Z",
     "shell.execute_reply": "2023-12-22T07:41:48.119990Z",
     "shell.execute_reply.started": "2023-12-22T07:41:48.111673Z"
    }
   },
   "outputs": [
    {
     "data": {
      "text/html": [
       "<div>\n",
       "<style scoped>\n",
       "    .dataframe tbody tr th:only-of-type {\n",
       "        vertical-align: middle;\n",
       "    }\n",
       "\n",
       "    .dataframe tbody tr th {\n",
       "        vertical-align: top;\n",
       "    }\n",
       "\n",
       "    .dataframe thead th {\n",
       "        text-align: right;\n",
       "    }\n",
       "</style>\n",
       "<table border=\"1\" class=\"dataframe\">\n",
       "  <thead>\n",
       "    <tr style=\"text-align: right;\">\n",
       "      <th></th>\n",
       "      <th>userId</th>\n",
       "      <th>movieId</th>\n",
       "      <th>rating</th>\n",
       "    </tr>\n",
       "  </thead>\n",
       "  <tbody>\n",
       "    <tr>\n",
       "      <th>0</th>\n",
       "      <td>1</td>\n",
       "      <td>296</td>\n",
       "      <td>5.0</td>\n",
       "    </tr>\n",
       "    <tr>\n",
       "      <th>1</th>\n",
       "      <td>1</td>\n",
       "      <td>306</td>\n",
       "      <td>3.5</td>\n",
       "    </tr>\n",
       "    <tr>\n",
       "      <th>2</th>\n",
       "      <td>1</td>\n",
       "      <td>307</td>\n",
       "      <td>5.0</td>\n",
       "    </tr>\n",
       "    <tr>\n",
       "      <th>3</th>\n",
       "      <td>1</td>\n",
       "      <td>665</td>\n",
       "      <td>5.0</td>\n",
       "    </tr>\n",
       "    <tr>\n",
       "      <th>4</th>\n",
       "      <td>1</td>\n",
       "      <td>899</td>\n",
       "      <td>3.5</td>\n",
       "    </tr>\n",
       "  </tbody>\n",
       "</table>\n",
       "</div>"
      ],
      "text/plain": [
       "   userId  movieId  rating\n",
       "0       1      296     5.0\n",
       "1       1      306     3.5\n",
       "2       1      307     5.0\n",
       "3       1      665     5.0\n",
       "4       1      899     3.5"
      ]
     },
     "execution_count": 9,
     "metadata": {},
     "output_type": "execute_result"
    }
   ],
   "source": [
    "ratings.head()"
   ]
  },
  {
   "cell_type": "code",
   "execution_count": 19,
   "metadata": {
    "execution": {
     "iopub.execute_input": "2023-12-22T08:15:29.956850Z",
     "iopub.status.busy": "2023-12-22T08:15:29.955906Z",
     "iopub.status.idle": "2023-12-22T08:16:38.623532Z",
     "shell.execute_reply": "2023-12-22T08:16:38.622313Z",
     "shell.execute_reply.started": "2023-12-22T08:15:29.956812Z"
    },
    "ExecuteTime": {
     "end_time": "2024-01-22T22:43:02.775967Z",
     "start_time": "2024-01-22T22:42:55.816345900Z"
    }
   },
   "outputs": [],
   "source": [
    "import pandas as pd\n",
    "from sklearn.decomposition import TruncatedSVD\n",
    "\n",
    "ratings_df = pd.read_csv('ml-25m/ratings.csv')\n",
    "movies_df = pd.read_csv('ml-25m/movies.csv')\n",
    "\n",
    "movies_ratings_df = pd.merge(ratings_df,movies_df, on=\"movieId\")\n",
    "\n",
    "small_movies_ratings_df = movies_ratings_df[:10000]\n",
    "\n",
    "ratings_df = small_movies_ratings_df.reset_index(drop=True)\n",
    "\n",
    "user_ratings_pivot = small_movies_ratings_df.pivot(index='userId', columns='title', values='rating').fillna(0)\n",
    "\n",
    "avg_ratings = user_ratings_pivot.mean(axis=1)\n",
    "filled_user_item_matrix = user_ratings_pivot.sub(avg_ratings, axis=0).fillna(0)\n"
   ]
  },
  {
   "cell_type": "code",
   "execution_count": 20,
   "outputs": [
    {
     "data": {
      "text/plain": "title   $5 a Day (2008)  'Round Midnight (1986)  'burbs, The (1989)  \\\nuserId                                                                \n1             -0.081229               -0.081229           -0.081229   \n2             -0.203225               -0.203225           -0.203225   \n3             -0.737907               -0.737907           -0.737907   \n4             -0.248707               -0.248707           -0.248707   \n5             -0.115303               -0.115303           -0.115303   \n\ntitle   (500) Days of Summer (2009)  ...And Justice for All (1979)  10 (1979)  \\\nuserId                                                                          \n1                         -0.081229                      -0.081229  -0.081229   \n2                         -0.203225                      -0.203225  -0.203225   \n3                         -0.737907                      -0.737907  -0.737907   \n4                         -0.248707                      -0.248707  -0.248707   \n5                         -0.115303                      -0.115303  -0.115303   \n\ntitle   10 Rillington Place (1971)  10 Things I Hate About You (1999)  \\\nuserId                                                                  \n1                        -0.081229                          -0.081229   \n2                        -0.203225                          -0.203225   \n3                        -0.737907                          -0.737907   \n4                        -0.248707                          -0.248707   \n5                        -0.115303                          -0.115303   \n\ntitle   101 Dalmatians (1996)  \\\nuserId                          \n1                   -0.081229   \n2                   -0.203225   \n3                   -0.737907   \n4                   -0.248707   \n5                   -0.115303   \n\ntitle   101 Dalmatians (One Hundred and One Dalmatians) (1961)  ...  \\\nuserId                                                          ...   \n1                                               -0.081229       ...   \n2                                               -0.203225       ...   \n3                                               -0.737907       ...   \n4                                               -0.248707       ...   \n5                                               -0.115303       ...   \n\ntitle   Your Friends and Neighbors (1998)  Z (1969)  \\\nuserId                                                \n1                               -0.081229 -0.081229   \n2                               -0.203225 -0.203225   \n3                               -0.737907 -0.737907   \n4                               -0.248707 -0.248707   \n5                               -0.115303 -0.115303   \n\ntitle   Zack and Miri Make a Porno (2008)  Zero Effect (1998)  \\\nuserId                                                          \n1                               -0.081229           -0.081229   \n2                               -0.203225           -0.203225   \n3                               -0.737907           -0.737907   \n4                               -0.248707           -0.248707   \n5                               -0.115303           -0.115303   \n\ntitle   Zombieland (2009)  Zoolander (2001)  Zootopia (2016)  xXx (2002)  \\\nuserId                                                                     \n1               -0.081229         -0.081229        -0.081229   -0.081229   \n2               -0.203225         -0.203225        -0.203225   -0.203225   \n3                3.262093          2.762093        -0.737907    2.762093   \n4               -0.248707          3.751293         4.251293   -0.248707   \n5               -0.115303         -0.115303        -0.115303   -0.115303   \n\ntitle   xXx: State of the Union (2005)  ¡Three Amigos! (1986)  \nuserId                                                         \n1                            -0.081229              -0.081229  \n2                            -0.203225              -0.203225  \n3                            -0.737907              -0.737907  \n4                            -0.248707              -0.248707  \n5                            -0.115303              -0.115303  \n\n[5 rows x 3287 columns]",
      "text/html": "<div>\n<style scoped>\n    .dataframe tbody tr th:only-of-type {\n        vertical-align: middle;\n    }\n\n    .dataframe tbody tr th {\n        vertical-align: top;\n    }\n\n    .dataframe thead th {\n        text-align: right;\n    }\n</style>\n<table border=\"1\" class=\"dataframe\">\n  <thead>\n    <tr style=\"text-align: right;\">\n      <th>title</th>\n      <th>$5 a Day (2008)</th>\n      <th>'Round Midnight (1986)</th>\n      <th>'burbs, The (1989)</th>\n      <th>(500) Days of Summer (2009)</th>\n      <th>...And Justice for All (1979)</th>\n      <th>10 (1979)</th>\n      <th>10 Rillington Place (1971)</th>\n      <th>10 Things I Hate About You (1999)</th>\n      <th>101 Dalmatians (1996)</th>\n      <th>101 Dalmatians (One Hundred and One Dalmatians) (1961)</th>\n      <th>...</th>\n      <th>Your Friends and Neighbors (1998)</th>\n      <th>Z (1969)</th>\n      <th>Zack and Miri Make a Porno (2008)</th>\n      <th>Zero Effect (1998)</th>\n      <th>Zombieland (2009)</th>\n      <th>Zoolander (2001)</th>\n      <th>Zootopia (2016)</th>\n      <th>xXx (2002)</th>\n      <th>xXx: State of the Union (2005)</th>\n      <th>¡Three Amigos! (1986)</th>\n    </tr>\n    <tr>\n      <th>userId</th>\n      <th></th>\n      <th></th>\n      <th></th>\n      <th></th>\n      <th></th>\n      <th></th>\n      <th></th>\n      <th></th>\n      <th></th>\n      <th></th>\n      <th></th>\n      <th></th>\n      <th></th>\n      <th></th>\n      <th></th>\n      <th></th>\n      <th></th>\n      <th></th>\n      <th></th>\n      <th></th>\n      <th></th>\n    </tr>\n  </thead>\n  <tbody>\n    <tr>\n      <th>1</th>\n      <td>-0.081229</td>\n      <td>-0.081229</td>\n      <td>-0.081229</td>\n      <td>-0.081229</td>\n      <td>-0.081229</td>\n      <td>-0.081229</td>\n      <td>-0.081229</td>\n      <td>-0.081229</td>\n      <td>-0.081229</td>\n      <td>-0.081229</td>\n      <td>...</td>\n      <td>-0.081229</td>\n      <td>-0.081229</td>\n      <td>-0.081229</td>\n      <td>-0.081229</td>\n      <td>-0.081229</td>\n      <td>-0.081229</td>\n      <td>-0.081229</td>\n      <td>-0.081229</td>\n      <td>-0.081229</td>\n      <td>-0.081229</td>\n    </tr>\n    <tr>\n      <th>2</th>\n      <td>-0.203225</td>\n      <td>-0.203225</td>\n      <td>-0.203225</td>\n      <td>-0.203225</td>\n      <td>-0.203225</td>\n      <td>-0.203225</td>\n      <td>-0.203225</td>\n      <td>-0.203225</td>\n      <td>-0.203225</td>\n      <td>-0.203225</td>\n      <td>...</td>\n      <td>-0.203225</td>\n      <td>-0.203225</td>\n      <td>-0.203225</td>\n      <td>-0.203225</td>\n      <td>-0.203225</td>\n      <td>-0.203225</td>\n      <td>-0.203225</td>\n      <td>-0.203225</td>\n      <td>-0.203225</td>\n      <td>-0.203225</td>\n    </tr>\n    <tr>\n      <th>3</th>\n      <td>-0.737907</td>\n      <td>-0.737907</td>\n      <td>-0.737907</td>\n      <td>-0.737907</td>\n      <td>-0.737907</td>\n      <td>-0.737907</td>\n      <td>-0.737907</td>\n      <td>-0.737907</td>\n      <td>-0.737907</td>\n      <td>-0.737907</td>\n      <td>...</td>\n      <td>-0.737907</td>\n      <td>-0.737907</td>\n      <td>-0.737907</td>\n      <td>-0.737907</td>\n      <td>3.262093</td>\n      <td>2.762093</td>\n      <td>-0.737907</td>\n      <td>2.762093</td>\n      <td>-0.737907</td>\n      <td>-0.737907</td>\n    </tr>\n    <tr>\n      <th>4</th>\n      <td>-0.248707</td>\n      <td>-0.248707</td>\n      <td>-0.248707</td>\n      <td>-0.248707</td>\n      <td>-0.248707</td>\n      <td>-0.248707</td>\n      <td>-0.248707</td>\n      <td>-0.248707</td>\n      <td>-0.248707</td>\n      <td>-0.248707</td>\n      <td>...</td>\n      <td>-0.248707</td>\n      <td>-0.248707</td>\n      <td>-0.248707</td>\n      <td>-0.248707</td>\n      <td>-0.248707</td>\n      <td>3.751293</td>\n      <td>4.251293</td>\n      <td>-0.248707</td>\n      <td>-0.248707</td>\n      <td>-0.248707</td>\n    </tr>\n    <tr>\n      <th>5</th>\n      <td>-0.115303</td>\n      <td>-0.115303</td>\n      <td>-0.115303</td>\n      <td>-0.115303</td>\n      <td>-0.115303</td>\n      <td>-0.115303</td>\n      <td>-0.115303</td>\n      <td>-0.115303</td>\n      <td>-0.115303</td>\n      <td>-0.115303</td>\n      <td>...</td>\n      <td>-0.115303</td>\n      <td>-0.115303</td>\n      <td>-0.115303</td>\n      <td>-0.115303</td>\n      <td>-0.115303</td>\n      <td>-0.115303</td>\n      <td>-0.115303</td>\n      <td>-0.115303</td>\n      <td>-0.115303</td>\n      <td>-0.115303</td>\n    </tr>\n  </tbody>\n</table>\n<p>5 rows × 3287 columns</p>\n</div>"
     },
     "execution_count": 20,
     "metadata": {},
     "output_type": "execute_result"
    }
   ],
   "source": [
    "filled_user_item_matrix.head()"
   ],
   "metadata": {
    "collapsed": false,
    "ExecuteTime": {
     "end_time": "2024-01-22T22:43:04.817149800Z",
     "start_time": "2024-01-22T22:43:04.773910500Z"
    }
   }
  },
  {
   "cell_type": "code",
   "execution_count": 12,
   "outputs": [
    {
     "data": {
      "text/plain": "userId        1         2         3         4         5         6         7   \\\nuserId                                                                         \n1       1.000000  0.040863  0.061306  0.040815  0.015609  0.000000  0.093852   \n2       0.040863  1.000000  0.179009  0.197496  0.158202  0.129720  0.064954   \n3       0.061306  0.179009  1.000000  0.357750  0.061448  0.115148  0.031427   \n4       0.040815  0.197496  0.357750  1.000000  0.065825  0.072365  0.015566   \n5       0.015609  0.158202  0.061448  0.065825  1.000000  0.114936  0.202348   \n\nuserId        8         9         10  ...        66        67        68  \\\nuserId                                ...                                 \n1       0.021359  0.022860  0.026149  ...  0.027029  0.014144  0.123409   \n2       0.176880  0.128820  0.156814  ...  0.159310  0.124636  0.106164   \n3       0.081003  0.061602  0.132361  ...  0.101599  0.043351  0.147375   \n4       0.088927  0.066428  0.083821  ...  0.056998  0.069856  0.172473   \n5       0.307769  0.216435  0.269897  ...  0.145419  0.124905  0.036625   \n\nuserId        69        70        71        72        73        74        75  \nuserId                                                                        \n1       0.077003  0.096766  0.000000  0.047798  0.000000  0.038120  0.016482  \n2       0.285614  0.327078  0.240235  0.225541  0.057865  0.095406  0.156462  \n3       0.265932  0.224910  0.158936  0.125179  0.046192  0.035388  0.073670  \n4       0.183328  0.198931  0.184030  0.098636  0.023829  0.018178  0.054689  \n5       0.165236  0.187503  0.181828  0.245060  0.277126  0.260568  0.279906  \n\n[5 rows x 75 columns]",
      "text/html": "<div>\n<style scoped>\n    .dataframe tbody tr th:only-of-type {\n        vertical-align: middle;\n    }\n\n    .dataframe tbody tr th {\n        vertical-align: top;\n    }\n\n    .dataframe thead th {\n        text-align: right;\n    }\n</style>\n<table border=\"1\" class=\"dataframe\">\n  <thead>\n    <tr style=\"text-align: right;\">\n      <th>userId</th>\n      <th>1</th>\n      <th>2</th>\n      <th>3</th>\n      <th>4</th>\n      <th>5</th>\n      <th>6</th>\n      <th>7</th>\n      <th>8</th>\n      <th>9</th>\n      <th>10</th>\n      <th>...</th>\n      <th>66</th>\n      <th>67</th>\n      <th>68</th>\n      <th>69</th>\n      <th>70</th>\n      <th>71</th>\n      <th>72</th>\n      <th>73</th>\n      <th>74</th>\n      <th>75</th>\n    </tr>\n    <tr>\n      <th>userId</th>\n      <th></th>\n      <th></th>\n      <th></th>\n      <th></th>\n      <th></th>\n      <th></th>\n      <th></th>\n      <th></th>\n      <th></th>\n      <th></th>\n      <th></th>\n      <th></th>\n      <th></th>\n      <th></th>\n      <th></th>\n      <th></th>\n      <th></th>\n      <th></th>\n      <th></th>\n      <th></th>\n      <th></th>\n    </tr>\n  </thead>\n  <tbody>\n    <tr>\n      <th>1</th>\n      <td>1.000000</td>\n      <td>0.040863</td>\n      <td>0.061306</td>\n      <td>0.040815</td>\n      <td>0.015609</td>\n      <td>0.000000</td>\n      <td>0.093852</td>\n      <td>0.021359</td>\n      <td>0.022860</td>\n      <td>0.026149</td>\n      <td>...</td>\n      <td>0.027029</td>\n      <td>0.014144</td>\n      <td>0.123409</td>\n      <td>0.077003</td>\n      <td>0.096766</td>\n      <td>0.000000</td>\n      <td>0.047798</td>\n      <td>0.000000</td>\n      <td>0.038120</td>\n      <td>0.016482</td>\n    </tr>\n    <tr>\n      <th>2</th>\n      <td>0.040863</td>\n      <td>1.000000</td>\n      <td>0.179009</td>\n      <td>0.197496</td>\n      <td>0.158202</td>\n      <td>0.129720</td>\n      <td>0.064954</td>\n      <td>0.176880</td>\n      <td>0.128820</td>\n      <td>0.156814</td>\n      <td>...</td>\n      <td>0.159310</td>\n      <td>0.124636</td>\n      <td>0.106164</td>\n      <td>0.285614</td>\n      <td>0.327078</td>\n      <td>0.240235</td>\n      <td>0.225541</td>\n      <td>0.057865</td>\n      <td>0.095406</td>\n      <td>0.156462</td>\n    </tr>\n    <tr>\n      <th>3</th>\n      <td>0.061306</td>\n      <td>0.179009</td>\n      <td>1.000000</td>\n      <td>0.357750</td>\n      <td>0.061448</td>\n      <td>0.115148</td>\n      <td>0.031427</td>\n      <td>0.081003</td>\n      <td>0.061602</td>\n      <td>0.132361</td>\n      <td>...</td>\n      <td>0.101599</td>\n      <td>0.043351</td>\n      <td>0.147375</td>\n      <td>0.265932</td>\n      <td>0.224910</td>\n      <td>0.158936</td>\n      <td>0.125179</td>\n      <td>0.046192</td>\n      <td>0.035388</td>\n      <td>0.073670</td>\n    </tr>\n    <tr>\n      <th>4</th>\n      <td>0.040815</td>\n      <td>0.197496</td>\n      <td>0.357750</td>\n      <td>1.000000</td>\n      <td>0.065825</td>\n      <td>0.072365</td>\n      <td>0.015566</td>\n      <td>0.088927</td>\n      <td>0.066428</td>\n      <td>0.083821</td>\n      <td>...</td>\n      <td>0.056998</td>\n      <td>0.069856</td>\n      <td>0.172473</td>\n      <td>0.183328</td>\n      <td>0.198931</td>\n      <td>0.184030</td>\n      <td>0.098636</td>\n      <td>0.023829</td>\n      <td>0.018178</td>\n      <td>0.054689</td>\n    </tr>\n    <tr>\n      <th>5</th>\n      <td>0.015609</td>\n      <td>0.158202</td>\n      <td>0.061448</td>\n      <td>0.065825</td>\n      <td>1.000000</td>\n      <td>0.114936</td>\n      <td>0.202348</td>\n      <td>0.307769</td>\n      <td>0.216435</td>\n      <td>0.269897</td>\n      <td>...</td>\n      <td>0.145419</td>\n      <td>0.124905</td>\n      <td>0.036625</td>\n      <td>0.165236</td>\n      <td>0.187503</td>\n      <td>0.181828</td>\n      <td>0.245060</td>\n      <td>0.277126</td>\n      <td>0.260568</td>\n      <td>0.279906</td>\n    </tr>\n  </tbody>\n</table>\n<p>5 rows × 75 columns</p>\n</div>"
     },
     "execution_count": 12,
     "metadata": {},
     "output_type": "execute_result"
    }
   ],
   "source": [
    "from sklearn.metrics.pairwise import cosine_similarity\n",
    "\n",
    "similarities = cosine_similarity(user_ratings_pivot)\n",
    "\n",
    "cosine_similarity_df = pd.DataFrame(similarities,\n",
    "                                    index=user_ratings_pivot.index,\n",
    "                                    columns=user_ratings_pivot.index)\n",
    "cosine_similarity_df.head()"
   ],
   "metadata": {
    "collapsed": false,
    "ExecuteTime": {
     "end_time": "2024-01-22T22:16:11.558337700Z",
     "start_time": "2024-01-22T22:16:11.516802200Z"
    }
   }
  },
  {
   "cell_type": "code",
   "execution_count": 7,
   "outputs": [],
   "source": [
    "# Step 2: Compute similarity matrix S = Rf.T @ Rf\n",
    "similarity_matrix = filled_user_item_matrix.T.dot(filled_user_item_matrix)\n",
    "\n",
    "# Step 3: Perform eigenvalue decomposition\n",
    "d = 10\n",
    "svd = TruncatedSVD(n_components=d)\n",
    "svd.fit(similarity_matrix)\n",
    "eigenvalues = svd.singular_values_\n",
    "eigenvectors = svd.components_.T\n",
    "\n",
    "# Step 4: Reduce dimensionality of Rf\n",
    "reduced_representation = filled_user_item_matrix.dot(eigenvectors)"
   ],
   "metadata": {
    "collapsed": false,
    "ExecuteTime": {
     "end_time": "2024-01-22T22:04:13.646085500Z",
     "start_time": "2024-01-22T22:04:13.460033600Z"
    }
   }
  },
  {
   "cell_type": "code",
   "execution_count": 20,
   "metadata": {
    "collapsed": false,
    "ExecuteTime": {
     "end_time": "2024-01-21T23:10:10.638069800Z",
     "start_time": "2024-01-21T23:10:10.606396400Z"
    }
   },
   "outputs": [
    {
     "data": {
      "text/plain": "                0          1          2          3          4          5  \\\nuserId                                                                     \n1        1.386358   1.849875   2.423786   1.401452   1.886193   0.986462   \n2       22.077765   3.409157  -5.284337   7.613621   1.903523  -2.066745   \n3       20.392200  63.164679 -16.395891 -41.527407 -21.958366 -11.701960   \n4       13.124933  20.096588  -7.559784   1.364940  -6.241180  -2.260828   \n5       12.834660  -5.120109  -0.959321   1.007152   3.013938  -3.048615   \n\n               6         7         8         9  \nuserId                                          \n1       1.680169  2.065087  2.650653  1.016376  \n2      -8.815291  5.423296 -1.957602 -3.073975  \n3      -2.363192 -7.493129  6.014720 -9.811367  \n4      -4.740078  0.845615 -7.135728 -1.595804  \n5      -4.366261 -6.733884 -1.895099 -1.289979  ",
      "text/html": "<div>\n<style scoped>\n    .dataframe tbody tr th:only-of-type {\n        vertical-align: middle;\n    }\n\n    .dataframe tbody tr th {\n        vertical-align: top;\n    }\n\n    .dataframe thead th {\n        text-align: right;\n    }\n</style>\n<table border=\"1\" class=\"dataframe\">\n  <thead>\n    <tr style=\"text-align: right;\">\n      <th></th>\n      <th>0</th>\n      <th>1</th>\n      <th>2</th>\n      <th>3</th>\n      <th>4</th>\n      <th>5</th>\n      <th>6</th>\n      <th>7</th>\n      <th>8</th>\n      <th>9</th>\n    </tr>\n    <tr>\n      <th>userId</th>\n      <th></th>\n      <th></th>\n      <th></th>\n      <th></th>\n      <th></th>\n      <th></th>\n      <th></th>\n      <th></th>\n      <th></th>\n      <th></th>\n    </tr>\n  </thead>\n  <tbody>\n    <tr>\n      <th>1</th>\n      <td>1.386358</td>\n      <td>1.849875</td>\n      <td>2.423786</td>\n      <td>1.401452</td>\n      <td>1.886193</td>\n      <td>0.986462</td>\n      <td>1.680169</td>\n      <td>2.065087</td>\n      <td>2.650653</td>\n      <td>1.016376</td>\n    </tr>\n    <tr>\n      <th>2</th>\n      <td>22.077765</td>\n      <td>3.409157</td>\n      <td>-5.284337</td>\n      <td>7.613621</td>\n      <td>1.903523</td>\n      <td>-2.066745</td>\n      <td>-8.815291</td>\n      <td>5.423296</td>\n      <td>-1.957602</td>\n      <td>-3.073975</td>\n    </tr>\n    <tr>\n      <th>3</th>\n      <td>20.392200</td>\n      <td>63.164679</td>\n      <td>-16.395891</td>\n      <td>-41.527407</td>\n      <td>-21.958366</td>\n      <td>-11.701960</td>\n      <td>-2.363192</td>\n      <td>-7.493129</td>\n      <td>6.014720</td>\n      <td>-9.811367</td>\n    </tr>\n    <tr>\n      <th>4</th>\n      <td>13.124933</td>\n      <td>20.096588</td>\n      <td>-7.559784</td>\n      <td>1.364940</td>\n      <td>-6.241180</td>\n      <td>-2.260828</td>\n      <td>-4.740078</td>\n      <td>0.845615</td>\n      <td>-7.135728</td>\n      <td>-1.595804</td>\n    </tr>\n    <tr>\n      <th>5</th>\n      <td>12.834660</td>\n      <td>-5.120109</td>\n      <td>-0.959321</td>\n      <td>1.007152</td>\n      <td>3.013938</td>\n      <td>-3.048615</td>\n      <td>-4.366261</td>\n      <td>-6.733884</td>\n      <td>-1.895099</td>\n      <td>-1.289979</td>\n    </tr>\n  </tbody>\n</table>\n</div>"
     },
     "execution_count": 20,
     "metadata": {},
     "output_type": "execute_result"
    }
   ],
   "source": [
    "reduced_representation.head()"
   ]
  },
  {
   "cell_type": "code",
   "execution_count": null,
   "outputs": [],
   "source": [],
   "metadata": {
    "collapsed": false
   }
  }
 ],
 "metadata": {
  "kaggle": {
   "accelerator": "none",
   "dataSources": [
    {
     "datasetId": 1586809,
     "sourceId": 2610766,
     "sourceType": "datasetVersion"
    }
   ],
   "dockerImageVersionId": 30627,
   "isGpuEnabled": false,
   "isInternetEnabled": false,
   "language": "python",
   "sourceType": "notebook"
  },
  "kernelspec": {
   "display_name": "Python 3 (ipykernel)",
   "language": "python",
   "name": "python3"
  },
  "language_info": {
   "codemirror_mode": {
    "name": "ipython",
    "version": 3
   },
   "file_extension": ".py",
   "mimetype": "text/x-python",
   "name": "python",
   "nbconvert_exporter": "python",
   "pygments_lexer": "ipython3",
   "version": "3.9.0"
  }
 },
 "nbformat": 4,
 "nbformat_minor": 4
}
