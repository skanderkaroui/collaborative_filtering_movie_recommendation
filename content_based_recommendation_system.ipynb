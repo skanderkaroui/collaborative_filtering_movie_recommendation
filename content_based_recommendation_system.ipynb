{
 "cells": [
  {
   "cell_type": "markdown",
   "source": [
    "### This recommendation system is used to match movies with each other based on the similarity of their genres."
   ],
   "metadata": {
    "collapsed": false
   },
   "id": "8a6fcebaaa6968e6"
  },
  {
   "cell_type": "markdown",
   "source": [
    "For this two methods were used: genres multi-hot encoding and cosine similarity and CountVectorizer and cosine similarity. \n",
    "\n",
    "The former was not successful as comparing similarity between 20 genres is extremely memory intensive.\n",
    "\n",
    " The latter was successful as the CountVectorizer was able to vectorize the description of the movie and the cosine similarity was able to find the similarity between the movies.\n",
    "\n",
    "The description of the movie is vectorized using CountVectorizer and then cosine similarity is used to find the similarity between the movies. The movies are then recommended based on the similarity score."
   ],
   "metadata": {
    "collapsed": false
   },
   "id": "97795cc9fb6f0db2"
  },
  {
   "cell_type": "code",
   "outputs": [],
   "source": [
    "import pandas as pd"
   ],
   "metadata": {
    "collapsed": false,
    "ExecuteTime": {
     "end_time": "2024-03-27T12:41:03.543602Z",
     "start_time": "2024-03-27T12:41:03.531663Z"
    }
   },
   "id": "4060da8529e63acd",
   "execution_count": 13
  },
  {
   "cell_type": "code",
   "outputs": [],
   "source": [
    "movie = pd.read_csv('ml-25m/movies.csv')\n",
    "ratings = pd.read_csv('ml-25m/ratings.csv')"
   ],
   "metadata": {
    "collapsed": false,
    "ExecuteTime": {
     "end_time": "2024-03-27T12:41:09.080130Z",
     "start_time": "2024-03-27T12:41:03.544604Z"
    }
   },
   "id": "c4e42427c79ae04b",
   "execution_count": 14
  },
  {
   "cell_type": "code",
   "outputs": [
    {
     "data": {
      "text/plain": "   movieId                               title  \\\n0        1                    Toy Story (1995)   \n1        2                      Jumanji (1995)   \n2        3             Grumpier Old Men (1995)   \n3        4            Waiting to Exhale (1995)   \n4        5  Father of the Bride Part II (1995)   \n\n                                        genres  \n0  Adventure|Animation|Children|Comedy|Fantasy  \n1                   Adventure|Children|Fantasy  \n2                               Comedy|Romance  \n3                         Comedy|Drama|Romance  \n4                                       Comedy  ",
      "text/html": "<div>\n<style scoped>\n    .dataframe tbody tr th:only-of-type {\n        vertical-align: middle;\n    }\n\n    .dataframe tbody tr th {\n        vertical-align: top;\n    }\n\n    .dataframe thead th {\n        text-align: right;\n    }\n</style>\n<table border=\"1\" class=\"dataframe\">\n  <thead>\n    <tr style=\"text-align: right;\">\n      <th></th>\n      <th>movieId</th>\n      <th>title</th>\n      <th>genres</th>\n    </tr>\n  </thead>\n  <tbody>\n    <tr>\n      <th>0</th>\n      <td>1</td>\n      <td>Toy Story (1995)</td>\n      <td>Adventure|Animation|Children|Comedy|Fantasy</td>\n    </tr>\n    <tr>\n      <th>1</th>\n      <td>2</td>\n      <td>Jumanji (1995)</td>\n      <td>Adventure|Children|Fantasy</td>\n    </tr>\n    <tr>\n      <th>2</th>\n      <td>3</td>\n      <td>Grumpier Old Men (1995)</td>\n      <td>Comedy|Romance</td>\n    </tr>\n    <tr>\n      <th>3</th>\n      <td>4</td>\n      <td>Waiting to Exhale (1995)</td>\n      <td>Comedy|Drama|Romance</td>\n    </tr>\n    <tr>\n      <th>4</th>\n      <td>5</td>\n      <td>Father of the Bride Part II (1995)</td>\n      <td>Comedy</td>\n    </tr>\n  </tbody>\n</table>\n</div>"
     },
     "execution_count": 15,
     "metadata": {},
     "output_type": "execute_result"
    }
   ],
   "source": [
    "movie_count_vect = movie.copy()\n",
    "movie_count_vect = movie_count_vect[:10000]\n",
    "movie_count_vect.head()"
   ],
   "metadata": {
    "collapsed": false,
    "ExecuteTime": {
     "end_time": "2024-03-27T12:41:09.096314Z",
     "start_time": "2024-03-27T12:41:09.081309Z"
    }
   },
   "id": "ed7761b0ee1b0b9b",
   "execution_count": 15
  },
  {
   "cell_type": "code",
   "outputs": [
    {
     "name": "stdout",
     "output_type": "stream",
     "text": [
      "  (0, 1)\t1\n",
      "  (0, 2)\t1\n",
      "  (0, 3)\t1\n",
      "  (0, 4)\t1\n",
      "  (0, 8)\t1\n",
      "  (1, 1)\t1\n",
      "  (1, 3)\t1\n",
      "  (1, 8)\t1\n",
      "  (2, 4)\t1\n",
      "  (2, 16)\t1\n",
      "  (3, 4)\t1\n",
      "  (3, 16)\t1\n",
      "  (3, 7)\t1\n",
      "  (4, 4)\t1\n",
      "  (5, 0)\t1\n",
      "  (5, 5)\t1\n",
      "  (5, 18)\t1\n",
      "  (6, 4)\t1\n",
      "  (6, 16)\t1\n",
      "  (7, 1)\t1\n",
      "  (7, 3)\t1\n",
      "  (8, 0)\t1\n",
      "  (9, 1)\t1\n",
      "  (9, 0)\t1\n",
      "  (9, 18)\t1\n",
      "  :\t:\n",
      "  (9987, 0)\t1\n",
      "  (9988, 18)\t1\n",
      "  (9988, 11)\t1\n",
      "  (9989, 4)\t1\n",
      "  (9990, 16)\t1\n",
      "  (9990, 7)\t1\n",
      "  (9990, 13)\t1\n",
      "  (9991, 7)\t1\n",
      "  (9992, 4)\t1\n",
      "  (9992, 16)\t1\n",
      "  (9992, 7)\t1\n",
      "  (9993, 4)\t1\n",
      "  (9993, 7)\t1\n",
      "  (9993, 13)\t1\n",
      "  (9994, 7)\t1\n",
      "  (9994, 19)\t1\n",
      "  (9995, 7)\t1\n",
      "  (9995, 19)\t1\n",
      "  (9996, 0)\t1\n",
      "  (9996, 17)\t1\n",
      "  (9996, 9)\t1\n",
      "  (9997, 16)\t1\n",
      "  (9997, 7)\t1\n",
      "  (9998, 4)\t1\n",
      "  (9999, 4)\t1\n"
     ]
    }
   ],
   "source": [
    "from sklearn.feature_extraction.text import CountVectorizer\n",
    "from sklearn.metrics.pairwise import cosine_similarity\n",
    "\n",
    "cv = CountVectorizer()\n",
    "count_matrix = cv.fit_transform(movie_count_vect[\"genres\"])\n",
    "\n",
    "cosine_similarity = cosine_similarity(count_matrix)\n",
    "\n",
    "print(count_matrix)"
   ],
   "metadata": {
    "collapsed": false,
    "ExecuteTime": {
     "end_time": "2024-03-27T12:41:09.891492Z",
     "start_time": "2024-03-27T12:41:09.097857Z"
    }
   },
   "id": "8d519ebc8d251b6d",
   "execution_count": 16
  },
  {
   "cell_type": "code",
   "outputs": [],
   "source": [
    "def get_title_from_index(index):\n",
    "    return movie_count_vect[movie_count_vect.index == index][\"title\"].values[0]\n",
    "def get_movie_id_from_title(title):\n",
    "    return movie_count_vect[movie_count_vect.title == title][\"movieId\"].values[0]"
   ],
   "metadata": {
    "collapsed": false,
    "ExecuteTime": {
     "end_time": "2024-03-27T12:41:09.907152Z",
     "start_time": "2024-03-27T12:41:09.892550Z"
    }
   },
   "id": "2cb7fc54c24a84be",
   "execution_count": 17
  },
  {
   "cell_type": "code",
   "outputs": [],
   "source": [
    "movie_name = \"Toy Story (1995)\"\n",
    "movie_id = get_movie_id_from_title(movie_name)\n",
    "similar_movies = list( enumerate(cosine_similarity[movie_id]))"
   ],
   "metadata": {
    "collapsed": false,
    "ExecuteTime": {
     "end_time": "2024-03-27T12:41:09.922871Z",
     "start_time": "2024-03-27T12:41:09.909278Z"
    }
   },
   "id": "c6e5200a6946ccac",
   "execution_count": 18
  },
  {
   "cell_type": "code",
   "outputs": [],
   "source": [
    "sorted_similar_movies = sorted(similar_movies,key=lambda x:x[1],reverse=True)[1:]"
   ],
   "metadata": {
    "collapsed": false,
    "ExecuteTime": {
     "end_time": "2024-03-27T12:41:09.938672Z",
     "start_time": "2024-03-27T12:41:09.923883Z"
    }
   },
   "id": "5734dc3e2c0763b8",
   "execution_count": 19
  },
  {
   "cell_type": "code",
   "outputs": [
    {
     "name": "stdout",
     "output_type": "stream",
     "text": [
      "Top 10 similar movies to Toy Story (1995) are:\n",
      "\n",
      "Indian in the Cupboard, The (1995)\n",
      "NeverEnding Story III, The (1994)\n",
      "Escape to Witch Mountain (1975)\n",
      "Darby O'Gill and the Little People (1959)\n",
      "Return to Oz (1985)\n",
      "NeverEnding Story, The (1984)\n",
      "NeverEnding Story II: The Next Chapter, The (1990)\n",
      "Santa Claus: The Movie (1985)\n",
      "Harry Potter and the Sorcerer's Stone (a.k.a. Harry Potter and the Philosopher's Stone) (2001)\n",
      "Magic in the Water (1995)\n"
     ]
    }
   ],
   "source": [
    "print(f\"Top 10 similar movies to {movie_name} are:\\n\")\n",
    "for i, element in enumerate(sorted_similar_movies[:10], 1):\n",
    "    print(get_title_from_index(element[0]))"
   ],
   "metadata": {
    "collapsed": false,
    "ExecuteTime": {
     "end_time": "2024-03-27T12:41:09.954359Z",
     "start_time": "2024-03-27T12:41:09.939968Z"
    }
   },
   "id": "7ba9398e5b65a508",
   "execution_count": 20
  },
  {
   "cell_type": "markdown",
   "source": [
    "NB: The algorithm can be improved by using the description, the cast, the actors, the director, the year of release, the rating, the number of ratings, etc. to find the similarity between the movies. \n",
    "This will make the recommendation system more accurate and will provide better recommendations."
   ],
   "metadata": {
    "collapsed": false
   },
   "id": "252a09f083887aca"
  },
  {
   "cell_type": "code",
   "outputs": [],
   "source": [],
   "metadata": {
    "collapsed": false
   },
   "id": "42bb1b77a5552a87"
  }
 ],
 "metadata": {
  "kernelspec": {
   "display_name": "Python 3",
   "language": "python",
   "name": "python3"
  },
  "language_info": {
   "codemirror_mode": {
    "name": "ipython",
    "version": 2
   },
   "file_extension": ".py",
   "mimetype": "text/x-python",
   "name": "python",
   "nbconvert_exporter": "python",
   "pygments_lexer": "ipython2",
   "version": "2.7.6"
  }
 },
 "nbformat": 4,
 "nbformat_minor": 5
}
